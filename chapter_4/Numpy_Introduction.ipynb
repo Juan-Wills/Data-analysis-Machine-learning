{
 "cells": [
  {
   "cell_type": "markdown",
   "id": "56b32fb1-2085-4876-997f-8c80a19c1876",
   "metadata": {},
   "source": [
    "# <center>**Numpy (Numerical Python)**</center>\n",
    "| <div style=font-size:1.2em>Some tools numpy provide:</div> | <div style=font-size:1.2em>Data analysis applications:</div> |\n",
    "|:-----------------------------------------------------------------|:----------------------------------------------------------------|\n",
    "|Array-oriented arithmetic operations with broadcasting capabilities| Fast data munging and cleaning, subsetting and filtering |\n",
    "|Multidimentional arrays| transforming, among others kind of operations | Array algorithms like sorting, unique, and set operations |\n",
    "|Eficient and fast mathematical functions| Descriptive statistics and aggregating/summarizing data |\n",
    "|Reading/writting array data to disk| Data alignment for merging and joining heterogenous datasets |\n",
    "|Linear algebra, random number generator, and Fourier transform capabilities| Expressing conditional logic as array expressions instead of python 'for' loops |\n",
    "|C API for connecting Numpy with libraries written in C, C++, or FORTRAN| Group-wise data manipulation|"
   ]
  },
  {
   "cell_type": "markdown",
   "id": "1fe93351-24f1-4b5c-86d9-732bb85a4813",
   "metadata": {},
   "source": [
    "### **ndarray: A multidimentional**"
   ]
  },
  {
   "cell_type": "code",
   "execution_count": 2,
   "id": "55b2c8ec-7755-4230-819b-40b4ae00afe1",
   "metadata": {},
   "outputs": [
    {
     "data": {
      "text/plain": [
       "array([[1., 1., 1., 1.],\n",
       "       [1., 1., 1., 1.]])"
      ]
     },
     "execution_count": 2,
     "metadata": {},
     "output_type": "execute_result"
    }
   ],
   "source": [
    "import numpy as np\n",
    "import numpy.random\n",
    "\n",
    "rng= np.random.default_rng(seed=12345)\n",
    "\n",
    "data= np.ones((2,4))\n",
    "data"
   ]
  },
  {
   "cell_type": "markdown",
   "id": "0cdda939-0f50-44a7-ae17-953676f98706",
   "metadata": {},
   "source": [
    "<br>\n",
    "Arithmetic operations (Generates copies of the original array)"
   ]
  },
  {
   "cell_type": "code",
   "execution_count": 3,
   "id": "8311ea47-9cf4-4c79-990c-87acc807a40d",
   "metadata": {},
   "outputs": [
    {
     "data": {
      "text/plain": [
       "array([[12., 12., 12., 12.],\n",
       "       [12., 12., 12., 12.]])"
      ]
     },
     "execution_count": 3,
     "metadata": {},
     "output_type": "execute_result"
    }
   ],
   "source": [
    "data*12"
   ]
  },
  {
   "cell_type": "code",
   "execution_count": 4,
   "id": "7e4039ef-60cd-4185-880e-f64dcbf169c1",
   "metadata": {},
   "outputs": [
    {
     "data": {
      "text/plain": [
       "array([[-2., -2., -2., -2.],\n",
       "       [-2., -2., -2., -2.]])"
      ]
     },
     "execution_count": 4,
     "metadata": {},
     "output_type": "execute_result"
    }
   ],
   "source": [
    "data - 3"
   ]
  },
  {
   "cell_type": "code",
   "execution_count": 7,
   "id": "805c48d0-d5bc-4262-b8f4-d4808e589f51",
   "metadata": {},
   "outputs": [
    {
     "data": {
      "text/plain": [
       "array([[0.5, 0.5, 0.5, 0.5],\n",
       "       [0.5, 0.5, 0.5, 0.5]])"
      ]
     },
     "execution_count": 7,
     "metadata": {},
     "output_type": "execute_result"
    }
   ],
   "source": [
    "data / 2"
   ]
  },
  {
   "cell_type": "code",
   "execution_count": 8,
   "id": "8ad3a868-da37-4b70-ade9-d09a7f391563",
   "metadata": {},
   "outputs": [
    {
     "data": {
      "text/plain": [
       "array([[8., 8., 8., 8.],\n",
       "       [8., 8., 8., 8.]])"
      ]
     },
     "execution_count": 8,
     "metadata": {},
     "output_type": "execute_result"
    }
   ],
   "source": [
    "data * 8"
   ]
  },
  {
   "cell_type": "code",
   "execution_count": 9,
   "id": "ea74dbc8-5fa9-4381-a491-60828703b438",
   "metadata": {},
   "outputs": [
    {
     "data": {
      "text/plain": [
       "array([[2., 2., 2., 2.],\n",
       "       [2., 2., 2., 2.]])"
      ]
     },
     "execution_count": 9,
     "metadata": {},
     "output_type": "execute_result"
    }
   ],
   "source": [
    "data + data\n",
    "np.ze()"
   ]
  },
  {
   "cell_type": "code",
   "execution_count": 19,
   "id": "9cbd96e9-9370-49e1-ac52-2930003d7a46",
   "metadata": {},
   "outputs": [
    {
     "data": {
      "text/plain": [
       "array([[ True,  True,  True,  True],\n",
       "       [ True,  True,  True,  True]])"
      ]
     },
     "execution_count": 19,
     "metadata": {},
     "output_type": "execute_result"
    }
   ],
   "source": [
    "data == data"
   ]
  },
  {
   "cell_type": "markdown",
   "id": "0064f278-172c-4b43-a853-34a891b59085",
   "metadata": {},
   "source": [
    "### Ways to create ndarrays \n",
    "- array  ------------------> `np.array(sequence)`\n",
    "- asarray  ----------------> `np.asarray(sequence)` *(Fails if ndarray already exists)*\n",
    "- zeros  ------------------> `np.zeros(array)`\n",
    "- ones  -------------------> `np.ones(2,3)`\n",
    "- empty  -----------------> `np.empty(2,3)`\n",
    "- likeVariante  ------------> `np.zeros_like(array), np.ones_like(array), np.empty_like(array)`\n",
    "- full  ---------------------> `np.full(5, fill_value= 3)`\n",
    "- arange  -----------------> `np.arange(2, 10)`\n",
    "- sequence-like objects -> `list, tuple, etc`"
   ]
  },
  {
   "cell_type": "markdown",
   "id": "6921a24e-dc3e-40e0-ba76-2c91c004feee",
   "metadata": {},
   "source": [
    "### dtypes: date types for ndarrays\n",
    "|    Type |Type Code    | Description |\n",
    "|-----------|-------------|-----------|\n",
    "| int8, uint8 | i1, u1| Signed and unsigned 8-bit (1 byte) integer types |\n",
    "| int16, uint16 | i2, u2| Signed and unsigned 16-bit integer types |\n",
    "| int32, uint32| i4, u4| Signed and unsigned 32-bit integer types |\n",
    "| int64, uint64 | i8, u8| Signed and unsigned 64-bit integer types |\n",
    "| float16 | f2| Half-precision floating point|\n",
    "| float32 | f4 *or* f| Standard single-precision floating-point; compatible with C float type|\n",
    "| float64 | f8 *or* d| Standard double-precision floating-point; compatible with C double and Python float object |\n",
    "| float128 | f16 *or* g| Extended-precision floating-point|\n",
    "| complex64 | c8, c16| Complex numbers represented by two 32, 64, or 128 floats, repectively |\n",
    "| complex128  | c32||\n",
    "| complex256| ||\n",
    "| bool | ?| Boolean type storing `True` and `False` values|\n",
    "| object| 0| Python object type; a value can be any Python type|\n",
    "| string_ | S | Fixed length ASCII string type (1 byte per character); for example, <br> to create  string data type with length 10, use `S10`|\n",
    "| unicode_ | U | Fixed length Unicode type (number of bytes plataform specific); <br> same specification semantic as `string_` (e.g, `U10`)|\n"
   ]
  },
  {
   "cell_type": "markdown",
   "id": "481b2dc5-a47b-46bb-afe1-199aeb8fffa8",
   "metadata": {},
   "source": [
    "### Casting dtypes"
   ]
  },
  {
   "cell_type": "code",
   "execution_count": 3,
   "id": "90b7d863-4575-412a-bdd5-93b2f2e4706d",
   "metadata": {},
   "outputs": [
    {
     "data": {
      "text/plain": [
       "dtype('float64')"
      ]
     },
     "execution_count": 3,
     "metadata": {},
     "output_type": "execute_result"
    }
   ],
   "source": [
    "data.dtype"
   ]
  },
  {
   "cell_type": "code",
   "execution_count": 8,
   "id": "ca8aa789-e6f0-41a8-a0f3-d954ac3a1bc3",
   "metadata": {},
   "outputs": [
    {
     "data": {
      "text/plain": [
       "dtype('int64')"
      ]
     },
     "execution_count": 8,
     "metadata": {},
     "output_type": "execute_result"
    }
   ],
   "source": [
    "int_array= np.arange(10, dtype= 'i8')\n",
    "int_array.dtype"
   ]
  },
  {
   "cell_type": "code",
   "execution_count": 13,
   "id": "16dac873-37f0-43d6-b1fb-779504f365ac",
   "metadata": {},
   "outputs": [
    {
     "data": {
      "text/plain": [
       "dtype('int64')"
      ]
     },
     "execution_count": 13,
     "metadata": {},
     "output_type": "execute_result"
    }
   ],
   "source": [
    "int_data= data.astype(int_array.dtype)\n",
    "int_data.dtype"
   ]
  },
  {
   "cell_type": "code",
   "execution_count": 16,
   "id": "e167989e-40e6-4cf7-bf2b-a7ac66df91d8",
   "metadata": {},
   "outputs": [
    {
     "data": {
      "text/plain": [
       "dtype('float64')"
      ]
     },
     "execution_count": 16,
     "metadata": {},
     "output_type": "execute_result"
    }
   ],
   "source": [
    "int_data.astype(float).dtype"
   ]
  },
  {
   "cell_type": "markdown",
   "id": "312b6d4b-d91b-43e9-bf89-7037382ca4f4",
   "metadata": {},
   "source": [
    "### Indexing and slicing\n",
    "When assigning a value by indexing or slicing a view is always returned; therefore, the original data in the arrays will be overwrited even if it is given to another reference variable. To avoid this use the `copy()` method.\n",
    "\n",
    "One dimentional arrays:"
   ]
  },
  {
   "cell_type": "code",
   "execution_count": 26,
   "id": "c1f7bc48-f00e-4f8a-9d4a-f093fec16050",
   "metadata": {},
   "outputs": [
    {
     "data": {
      "text/plain": [
       "array([2, 3, 4])"
      ]
     },
     "execution_count": 26,
     "metadata": {},
     "output_type": "execute_result"
    }
   ],
   "source": [
    "data= np.arange(10)\n",
    "data[2:5]"
   ]
  },
  {
   "cell_type": "code",
   "execution_count": 28,
   "id": "e331cfb3-b5ea-4e32-a42d-b6a9b24cb294",
   "metadata": {},
   "outputs": [
    {
     "data": {
      "text/plain": [
       "array([0, 1, 2, 3, 4, 5, 1, 1, 1, 1])"
      ]
     },
     "execution_count": 28,
     "metadata": {},
     "output_type": "execute_result"
    }
   ],
   "source": [
    "data[6:]= 1\n",
    "data"
   ]
  },
  {
   "cell_type": "code",
   "execution_count": 30,
   "id": "b1eeb024-b043-41a5-beda-c60df917e383",
   "metadata": {},
   "outputs": [
    {
     "data": {
      "text/plain": [
       "array([4, 4])"
      ]
     },
     "execution_count": 30,
     "metadata": {},
     "output_type": "execute_result"
    }
   ],
   "source": [
    "data_slice= data[2:4]\n",
    "data_slice[:]= 4\n",
    "data_slice"
   ]
  },
  {
   "cell_type": "code",
   "execution_count": 31,
   "id": "216c1907-7317-42b6-a3e6-3f4fcebf4cf1",
   "metadata": {},
   "outputs": [
    {
     "data": {
      "text/plain": [
       "array([0, 1, 4, 4, 4, 5, 1, 1, 1, 1])"
      ]
     },
     "execution_count": 31,
     "metadata": {},
     "output_type": "execute_result"
    }
   ],
   "source": [
    "data"
   ]
  },
  {
   "cell_type": "markdown",
   "id": "670a14f4-de45-4ed5-a696-3a132d6bff8d",
   "metadata": {},
   "source": [
    "<br>Two dimentional arrays:"
   ]
  },
  {
   "cell_type": "code",
   "execution_count": 41,
   "id": "6876a40a-bee2-4c6d-a547-3bfef7c1aa4d",
   "metadata": {},
   "outputs": [
    {
     "data": {
      "text/plain": [
       "array([[ 0.06114402,  0.0709146 ,  0.43365454,  0.27748366],\n",
       "       [ 0.53025239,  0.53672097,  0.61835001, -0.79501746],\n",
       "       [ 0.30003095, -1.60270159,  0.26679883, -1.26162378],\n",
       "       [-0.07127081,  0.47404973, -0.41485376,  0.0977165 ]])"
      ]
     },
     "execution_count": 41,
     "metadata": {},
     "output_type": "execute_result"
    }
   ],
   "source": [
    "array2d= rng.standard_normal((4, 4))\n",
    "array2d"
   ]
  },
  {
   "cell_type": "code",
   "execution_count": 43,
   "id": "bacbe770-1e58-44f6-b2f0-39a199e84a89",
   "metadata": {},
   "outputs": [
    {
     "data": {
      "text/plain": [
       "array([ 0.30003095, -1.60270159,  0.26679883, -1.26162378])"
      ]
     },
     "execution_count": 43,
     "metadata": {},
     "output_type": "execute_result"
    }
   ],
   "source": [
    "array2d[2]"
   ]
  },
  {
   "cell_type": "code",
   "execution_count": 39,
   "id": "9cf3cba5-2a53-49fc-b0c2-d9c9c6bcf8db",
   "metadata": {},
   "outputs": [
    {
     "data": {
      "text/plain": [
       "np.float64(0.2575577684128723)"
      ]
     },
     "execution_count": 39,
     "metadata": {},
     "output_type": "execute_result"
    }
   ],
   "source": [
    "array2d[1][3]; array2d[1, 3]"
   ]
  },
  {
   "cell_type": "markdown",
   "id": "1fc0da1e-469f-4eb1-966c-29083bc0a455",
   "metadata": {},
   "source": [
    "<br>\n",
    "When slicing 2D arrays, the first value correspond to axis X (rows) and the second value to axis Y (columns)."
   ]
  },
  {
   "cell_type": "code",
   "execution_count": 42,
   "id": "41f1b421-04cd-4f9f-9c18-e625e68ad415",
   "metadata": {},
   "outputs": [
    {
     "data": {
      "text/plain": [
       "array([[0.0709146 , 0.43365454],\n",
       "       [0.53672097, 0.61835001]])"
      ]
     },
     "execution_count": 42,
     "metadata": {},
     "output_type": "execute_result"
    }
   ],
   "source": [
    "array2d[:2, 1:3]"
   ]
  },
  {
   "cell_type": "markdown",
   "id": "6557a289-cdf5-44a8-b504-5a1f9964b66a",
   "metadata": {},
   "source": [
    "### Boolean indexing"
   ]
  },
  {
   "cell_type": "code",
   "execution_count": 47,
   "id": "b05ecdfa-5208-4147-b5c0-5a781038c987",
   "metadata": {},
   "outputs": [],
   "source": [
    "names= np.array([\"Joe\", \"Will\", \"Steven\", \"Steven\", \"Joe\", \"Will\", \"Joe\"])\n",
    "info= np.array([[4, 7], [0, 2], [-5, 6], [0, 0], [1, 2], [-12, -4], [3, 4]])"
   ]
  },
  {
   "cell_type": "code",
   "execution_count": 54,
   "id": "4c5487f5-354b-44e4-b5d4-fed97cccb6e6",
   "metadata": {},
   "outputs": [
    {
     "data": {
      "text/plain": [
       "array([False, False,  True,  True, False, False, False])"
      ]
     },
     "execution_count": 54,
     "metadata": {},
     "output_type": "execute_result"
    }
   ],
   "source": [
    "names == \"Steven\""
   ]
  },
  {
   "cell_type": "code",
   "execution_count": 58,
   "id": "6248122e-b56c-4e28-9da3-04443c9b815d",
   "metadata": {},
   "outputs": [
    {
     "data": {
      "text/plain": [
       "array([ True,  True, False, False,  True,  True,  True])"
      ]
     },
     "execution_count": 58,
     "metadata": {},
     "output_type": "execute_result"
    }
   ],
   "source": [
    "~(names == \"Steven\")  # '~' negates the condition"
   ]
  },
  {
   "cell_type": "code",
   "execution_count": 48,
   "id": "abada4ff-8f74-4d0a-8595-f0d43d1b2f87",
   "metadata": {},
   "outputs": [
    {
     "data": {
      "text/plain": [
       "array([[4, 7],\n",
       "       [1, 2],\n",
       "       [3, 4]])"
      ]
     },
     "execution_count": 48,
     "metadata": {},
     "output_type": "execute_result"
    }
   ],
   "source": [
    "info[names == \"Joe\"]"
   ]
  },
  {
   "cell_type": "code",
   "execution_count": 51,
   "id": "36cf2572-7df6-4eb3-9a94-cbc83b35bac6",
   "metadata": {},
   "outputs": [
    {
     "data": {
      "text/plain": [
       "array([[ 2],\n",
       "       [-4]])"
      ]
     },
     "execution_count": 51,
     "metadata": {},
     "output_type": "execute_result"
    }
   ],
   "source": [
    "info[names == \"Will\", 1:]"
   ]
  },
  {
   "cell_type": "code",
   "execution_count": 56,
   "id": "eeac0d16-6306-44fc-b53b-cca98ba91f8e",
   "metadata": {},
   "outputs": [
    {
     "data": {
      "text/plain": [
       "array([ 2, -4])"
      ]
     },
     "execution_count": 56,
     "metadata": {},
     "output_type": "execute_result"
    }
   ],
   "source": [
    "info[names == \"Will\", 1]"
   ]
  },
  {
   "cell_type": "code",
   "execution_count": 61,
   "id": "2d3e90c4-16a6-4d41-a433-ea97d072f546",
   "metadata": {},
   "outputs": [
    {
     "data": {
      "text/plain": [
       "array([[ 4,  7],\n",
       "       [-5,  6],\n",
       "       [ 0,  0],\n",
       "       [ 1,  2],\n",
       "       [ 3,  4]])"
      ]
     },
     "execution_count": 61,
     "metadata": {},
     "output_type": "execute_result"
    }
   ],
   "source": [
    "mask= (names == \"Steven\") | (names == \"Joe\")\n",
    "info[mask]"
   ]
  },
  {
   "cell_type": "markdown",
   "id": "c7aa7a78-3c40-40f9-a687-27597f9be353",
   "metadata": {},
   "source": [
    "**Tip:** Python keywords `and` and `or` doesn't work with Boolean arrays."
   ]
  },
  {
   "cell_type": "markdown",
   "id": "1b47fe6e-4024-4d96-8585-3a6caabf2485",
   "metadata": {},
   "source": [
    "### Fancy indexing"
   ]
  },
  {
   "cell_type": "code",
   "execution_count": 62,
   "id": "6ec0d95c-5cd1-4b8f-905f-ff51ef8df7dd",
   "metadata": {},
   "outputs": [
    {
     "data": {
      "text/plain": [
       "array([[0., 0., 0., 0.],\n",
       "       [1., 1., 1., 1.],\n",
       "       [2., 2., 2., 2.],\n",
       "       [3., 3., 3., 3.],\n",
       "       [4., 4., 4., 4.],\n",
       "       [5., 5., 5., 5.],\n",
       "       [6., 6., 6., 6.],\n",
       "       [7., 7., 7., 7.]])"
      ]
     },
     "execution_count": 62,
     "metadata": {},
     "output_type": "execute_result"
    }
   ],
   "source": [
    "arr= np.ones((8,4))\n",
    "for i in range(8):\n",
    "    arr[i]= i\n",
    "arr"
   ]
  },
  {
   "cell_type": "code",
   "execution_count": 63,
   "id": "d1f6005b-e2c9-460e-9027-10ff134ad3f3",
   "metadata": {},
   "outputs": [
    {
     "data": {
      "text/plain": [
       "array([[2., 2., 2., 2.],\n",
       "       [0., 0., 0., 0.],\n",
       "       [5., 5., 5., 5.],\n",
       "       [4., 4., 4., 4.]])"
      ]
     },
     "execution_count": 63,
     "metadata": {},
     "output_type": "execute_result"
    }
   ],
   "source": [
    "arr[[2,0,5,4]]"
   ]
  },
  {
   "cell_type": "code",
   "execution_count": 64,
   "id": "98d778e8-a824-45bc-9d9c-40ed2f681100",
   "metadata": {},
   "outputs": [
    {
     "data": {
      "text/plain": [
       "array([[6., 6., 6., 6.],\n",
       "       [3., 3., 3., 3.],\n",
       "       [7., 7., 7., 7.]])"
      ]
     },
     "execution_count": 64,
     "metadata": {},
     "output_type": "execute_result"
    }
   ],
   "source": [
    "arr[[-2,-5,-1]]"
   ]
  },
  {
   "cell_type": "code",
   "execution_count": 67,
   "id": "f57e0f80-1bbf-42b1-9999-19db185f1614",
   "metadata": {},
   "outputs": [
    {
     "data": {
      "text/plain": [
       "array([[ 0,  1,  2,  3],\n",
       "       [ 4,  5,  6,  7],\n",
       "       [ 8,  9, 10, 11],\n",
       "       [12, 13, 14, 15],\n",
       "       [16, 17, 18, 19],\n",
       "       [20, 21, 22, 23],\n",
       "       [24, 25, 26, 27],\n",
       "       [28, 29, 30, 31]])"
      ]
     },
     "execution_count": 67,
     "metadata": {},
     "output_type": "execute_result"
    }
   ],
   "source": [
    "arr= np.arange(32).reshape((8, 4))\n",
    "arr"
   ]
  },
  {
   "cell_type": "code",
   "execution_count": 68,
   "id": "9846ab6e-c3d3-4096-83a4-908cafee1991",
   "metadata": {},
   "outputs": [
    {
     "data": {
      "text/plain": [
       "array([ 4, 23, 29, 10])"
      ]
     },
     "execution_count": 68,
     "metadata": {},
     "output_type": "execute_result"
    }
   ],
   "source": [
    "arr[[1, 5, 7, 2], [0, 3, 1, 2]]"
   ]
  },
  {
   "cell_type": "code",
   "execution_count": 71,
   "id": "82ea01fc-f4f7-4847-b778-e822c2ff6739",
   "metadata": {},
   "outputs": [
    {
     "data": {
      "text/plain": [
       "array([[ 4,  7,  5,  6],\n",
       "       [20, 23, 21, 22],\n",
       "       [28, 31, 29, 30],\n",
       "       [ 8, 11,  9, 10]])"
      ]
     },
     "execution_count": 71,
     "metadata": {},
     "output_type": "execute_result"
    }
   ],
   "source": [
    "arr[[1, 5, 7, 2]] [:, [0, 3, 1, 2]]"
   ]
  },
  {
   "cell_type": "markdown",
   "id": "4c1011c1-6ee8-4ab8-89b4-dc278dea0689",
   "metadata": {},
   "source": [
    "### Transposing arrays and swapping axes"
   ]
  },
  {
   "cell_type": "code",
   "execution_count": 72,
   "id": "134de66b-b596-48a2-9feb-c1145c781b93",
   "metadata": {},
   "outputs": [
    {
     "data": {
      "text/plain": [
       "array([[ 0,  1,  2,  3],\n",
       "       [ 4,  5,  6,  7],\n",
       "       [ 8,  9, 10, 11],\n",
       "       [12, 13, 14, 15],\n",
       "       [16, 17, 18, 19],\n",
       "       [20, 21, 22, 23],\n",
       "       [24, 25, 26, 27],\n",
       "       [28, 29, 30, 31]])"
      ]
     },
     "execution_count": 72,
     "metadata": {},
     "output_type": "execute_result"
    }
   ],
   "source": [
    "arr"
   ]
  },
  {
   "cell_type": "code",
   "execution_count": 82,
   "id": "03e3c652-1901-4d11-8b8d-1367a1f2268a",
   "metadata": {},
   "outputs": [
    {
     "data": {
      "text/plain": [
       "array([[ 0,  4,  8, 12, 16, 20, 24, 28],\n",
       "       [ 1,  5,  9, 13, 17, 21, 25, 29],\n",
       "       [ 2,  6, 10, 14, 18, 22, 26, 30],\n",
       "       [ 3,  7, 11, 15, 19, 23, 27, 31]])"
      ]
     },
     "execution_count": 82,
     "metadata": {},
     "output_type": "execute_result"
    }
   ],
   "source": [
    "arr.T; arr.transpose(); arr.swapaxes(0, 1)"
   ]
  },
  {
   "cell_type": "markdown",
   "id": "923ed29a-a28a-4d00-be07-698567558f13",
   "metadata": {},
   "source": [
    "### **Pseudorandom Number Generator**"
   ]
  },
  {
   "cell_type": "markdown",
   "id": "196014ba-83a8-4129-85cd-473bcae071d2",
   "metadata": {},
   "source": [
    "To set a rng generator to a specific seed do the following:"
   ]
  },
  {
   "cell_type": "code",
   "execution_count": 85,
   "id": "402504e3-2d27-49d0-b506-96452728c0b3",
   "metadata": {},
   "outputs": [
    {
     "data": {
      "text/plain": [
       "numpy.random._generator.Generator"
      ]
     },
     "execution_count": 85,
     "metadata": {},
     "output_type": "execute_result"
    }
   ],
   "source": [
    "rng= np.random.default_rng(seed=12345)\n",
    "type(rng)"
   ]
  },
  {
   "cell_type": "code",
   "execution_count": 89,
   "id": "6345c495-6a73-4306-b27c-05d7bd1ebca7",
   "metadata": {},
   "outputs": [
    {
     "data": {
      "text/plain": [
       "array([[0.31675834, 0.79736546, 0.67625467, 0.39110955, 0.33281393,\n",
       "        0.59830875, 0.18673419, 0.67275604, 0.94180287, 0.24824571]])"
      ]
     },
     "execution_count": 89,
     "metadata": {},
     "output_type": "execute_result"
    }
   ],
   "source": [
    "arr= rng.uniform(size=(1, 10))\n",
    "arr"
   ]
  },
  {
   "cell_type": "markdown",
   "id": "ec7db9f8-edbc-44e6-91c4-730db1ada31e",
   "metadata": {},
   "source": [
    "### **Universal Functions: Fast Element-Wise Array Functions**"
   ]
  },
  {
   "cell_type": "markdown",
   "id": "66ddba1e-5642-4f7d-ae13-cecfd6d0880e",
   "metadata": {},
   "source": [
    "Universal functions, or *ufunc*, are divided in two groups: \n",
    "- Which perform transformations over the data; known as *unary*   (i.e `abs, fabs`, `sqrt`, `exp`, `isnan`, `modf`, etc)\n",
    "- Which takes two array and return a single new array; known as *binary*   (i.e `add`, `maximum, fmax`, `greater`, `logical_and`, `mod`, etc)"
   ]
  },
  {
   "cell_type": "code",
   "execution_count": 101,
   "id": "5fe5ea12-20d6-446a-b754-87822da78834",
   "metadata": {},
   "outputs": [
    {
     "data": {
      "text/plain": [
       "array([[0.10033585, 0.63579167],\n",
       "       [0.45732038, 0.15296668],\n",
       "       [0.11076511, 0.35797336],\n",
       "       [0.03486966, 0.45260069],\n",
       "       [0.88699264, 0.06162593]])"
      ]
     },
     "execution_count": 101,
     "metadata": {},
     "output_type": "execute_result"
    }
   ],
   "source": [
    "arr= arr.reshape((5,2))\n",
    "data= data.reshape((5,2))\n",
    "np.square(arr)"
   ]
  },
  {
   "cell_type": "code",
   "execution_count": 100,
   "id": "b1a9a922-8223-4044-b584-bc35bbbea812",
   "metadata": {},
   "outputs": [
    {
     "data": {
      "text/plain": [
       "array([[0.31675834, 1.        ],\n",
       "       [4.        , 4.        ],\n",
       "       [4.        , 5.        ],\n",
       "       [1.        , 1.        ],\n",
       "       [1.        , 1.        ]])"
      ]
     },
     "execution_count": 100,
     "metadata": {},
     "output_type": "execute_result"
    }
   ],
   "source": [
    "np.maximum(arr, data)"
   ]
  },
  {
   "cell_type": "markdown",
   "id": "8da8f19b-d644-4a8e-a53b-fb5604f58ffb",
   "metadata": {},
   "source": [
    "### Expresing conditional logic as array operations\n",
    "The `np.where()`function works as ternary expression `x if cond else y`."
   ]
  },
  {
   "cell_type": "code",
   "execution_count": 111,
   "id": "e31bee26-8bdc-4a6f-8d05-e837cdd5bffd",
   "metadata": {},
   "outputs": [
    {
     "data": {
      "text/plain": [
       "array([1.1, 1.2, 1.3, 1.4, 1.5])"
      ]
     },
     "execution_count": 111,
     "metadata": {},
     "output_type": "execute_result"
    }
   ],
   "source": [
    "cond= np.array([True, False, True, True, False])\n",
    "xarr= np.ones(5)\n",
    "yarr= np.ones(5) * 2\n",
    "for i in range(5):\n",
    "    xarr[i]+= (i+1)/10\n",
    "    yarr[i]+= (i+1)/10\n",
    "\n",
    "xarr"
   ]
  },
  {
   "cell_type": "code",
   "execution_count": 108,
   "id": "f1bb1354-313d-46cd-a71c-5b4448fc7ee6",
   "metadata": {},
   "outputs": [
    {
     "data": {
      "text/plain": [
       "array([2.1, 2.2, 2.3, 2.4, 2.5])"
      ]
     },
     "execution_count": 108,
     "metadata": {},
     "output_type": "execute_result"
    }
   ],
   "source": [
    "yarr"
   ]
  },
  {
   "cell_type": "code",
   "execution_count": 112,
   "id": "ce0c3f47-cd39-441b-8bbd-62aff3e7a65d",
   "metadata": {},
   "outputs": [
    {
     "data": {
      "text/plain": [
       "array([1.1, 2.2, 1.3, 1.4, 2.5])"
      ]
     },
     "execution_count": 112,
     "metadata": {},
     "output_type": "execute_result"
    }
   ],
   "source": [
    "result= np.where(cond, xarr, yarr)\n",
    "result"
   ]
  },
  {
   "cell_type": "markdown",
   "id": "c997d116-85f1-421f-b85e-ce5bb7a4d43e",
   "metadata": {},
   "source": [
    "### Mathematical and statistical methods\n",
    "*Basic array statistical and mathematical methods*\n",
    "\n",
    "| Method         \t| Description                                                                      \t|\n",
    "|-------------------|-----------------------------------------------------------------------------------|\n",
    "| sum            \t| Sum of all elements in the array or along an axis; zero-length arrays have sum 0 \t|\n",
    "| mean           \t| Arithmetic mean; invalid (returns NaN) on zero-length arrays                     \t|\n",
    "| std, var       \t| Standard deviation and variance, respectively                                    \t|\n",
    "| min, max       \t| Minimum and maximum                                                              \t|\n",
    "| argmin, argmax \t| Indices of minimum and maximum elements, respectively                            \t|\n",
    "| cumsum         \t| Cumulative sum of elements starting from 0                                       \t|\n",
    "| cumprod        \t| Cumulative sum of elements starting from 1                                       \t|"
   ]
  },
  {
   "cell_type": "code",
   "execution_count": null,
   "id": "99aaf77a-4674-46b7-9098-b8c622376ba5",
   "metadata": {},
   "outputs": [],
   "source": []
  },
  {
   "cell_type": "code",
   "execution_count": null,
   "id": "33996274-5b2f-4d1a-a269-2cb4b8657fe8",
   "metadata": {},
   "outputs": [],
   "source": []
  }
 ],
 "metadata": {
  "kernelspec": {
   "display_name": "Python 3 (ipykernel)",
   "language": "python",
   "name": "python3"
  },
  "language_info": {
   "codemirror_mode": {
    "name": "ipython",
    "version": 3
   },
   "file_extension": ".py",
   "mimetype": "text/x-python",
   "name": "python",
   "nbconvert_exporter": "python",
   "pygments_lexer": "ipython3",
   "version": "3.13.5"
  }
 },
 "nbformat": 4,
 "nbformat_minor": 5
}
