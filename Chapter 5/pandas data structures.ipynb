{
 "cells": [
  {
   "cell_type": "code",
   "execution_count": 2,
   "id": "991213ba-7d66-4160-b0ee-d36670aa0e89",
   "metadata": {},
   "outputs": [],
   "source": [
    "import pandas as pd\n",
    "import numpy as np"
   ]
  },
  {
   "cell_type": "markdown",
   "id": "12408024-1991-40de-96e0-47a0c980a10c",
   "metadata": {},
   "source": [
    "## Exercise 1: Series Creation and Basic Operations (Focus: Series)\n",
    "\n",
    "- **Scenario:** You're tracking the daily average temperature in Dosquebradas for a week.\n",
    "\n",
    "- **Task:**\n",
    "\n",
    "    1. Create a Pandas Series named temperatures with the following average temperatures (in Celsius) for 7 days: 24.5, 25.1, 23.9, 26.0, 24.8, 25.5, 24.2.\n",
    "\n",
    "    2. Assign meaningful labels (e.g., 'Monday', 'Tuesday', ...) as the index for this Series.\n",
    "\n",
    "    3. Calculate and print the average temperature for the week.\n",
    "\n",
    "    4. Print all temperatures above 25.0 degrees Celsius."
   ]
  },
  {
   "cell_type": "code",
   "execution_count": 8,
   "id": "73e8b41c-a064-48aa-84a4-ad7dc4639b68",
   "metadata": {},
   "outputs": [
    {
     "data": {
      "text/plain": [
       "Monday       24.5\n",
       "Tuesday      25.1\n",
       "Wednesday    23.9\n",
       "Thursday     26.0\n",
       "Friday       24.8\n",
       "Saturday     25.5\n",
       "Sunday       24.2\n",
       "dtype: float64"
      ]
     },
     "execution_count": 8,
     "metadata": {},
     "output_type": "execute_result"
    }
   ],
   "source": [
    "week_temp= pd.Series([24.5, 25.1, 23.9, 26., 24.8, 25.5, 24.2], index=[\"Monday\", \"Tuesday\", \"Wednesday\", \"Thursday\", \"Friday\", \"Saturday\", \"Sunday\"])\n",
    "week_temp"
   ]
  },
  {
   "cell_type": "code",
   "execution_count": 10,
   "id": "a0d7d465-219d-4017-90e8-a0eef9aab641",
   "metadata": {},
   "outputs": [
    {
     "data": {
      "text/plain": [
       "np.float64(24.857142857142858)"
      ]
     },
     "execution_count": 10,
     "metadata": {},
     "output_type": "execute_result"
    }
   ],
   "source": [
    "# Tempeture mean\n",
    "temp_mean= week_temp.mean()\n",
    "temp_mean"
   ]
  },
  {
   "cell_type": "code",
   "execution_count": 14,
   "id": "1b9533f8-d678-4ded-acaf-5d9bc46a1579",
   "metadata": {},
   "outputs": [
    {
     "data": {
      "text/plain": [
       "Tuesday     25.1\n",
       "Thursday    26.0\n",
       "Saturday    25.5\n",
       "dtype: float64"
      ]
     },
     "execution_count": 14,
     "metadata": {},
     "output_type": "execute_result"
    }
   ],
   "source": [
    "# Above 25.0\n",
    "bool_expr= week_temp > 25.\n",
    "week_temp[bool_expr]"
   ]
  },
  {
   "cell_type": "markdown",
   "id": "454a000a-768f-4938-8ec0-b2a4ddea21b3",
   "metadata": {},
   "source": [
    "## Exercise 2: DataFrame Creation and Column Selection (Focus: DataFrame & Basic Indexing)\n",
    "\n",
    "- **Scenario:** You want to record some basic information about a few coffee farms near Dosquebradas.\n",
    "\n",
    "- **Task:**\n",
    "\n",
    "1. Create a Pandas DataFrame named coffee_farms with the following data:\n",
    "\n",
    "   - Farm Name: 'La Aurora', 'El Mirador', 'Bella Vista'\n",
    "\n",
    "   - Altitude (meters): 1600, 1850, 1700\n",
    "\n",
    "   - Coffee Variety: 'Castillo', 'Caturra', 'Colombia'\n",
    "\n",
    "   - Annual Production (kg): 5000, 7500, 6000\n",
    "\n",
    "2. Set 'Farm Name' as the index of the DataFrame.\n",
    "\n",
    "3. Select and print only the 'Altitude (meters)' column.\n",
    "\n",
    "4. Select and print the 'Coffee Variety' and 'Annual Production (kg)' columns for all farms."
   ]
  },
  {
   "cell_type": "code",
   "execution_count": 66,
   "id": "8b8fd9d3-7d1d-48ee-8ae1-269a58187077",
   "metadata": {},
   "outputs": [
    {
     "data": {
      "text/html": [
       "<div>\n",
       "<style scoped>\n",
       "    .dataframe tbody tr th:only-of-type {\n",
       "        vertical-align: middle;\n",
       "    }\n",
       "\n",
       "    .dataframe tbody tr th {\n",
       "        vertical-align: top;\n",
       "    }\n",
       "\n",
       "    .dataframe thead th {\n",
       "        text-align: right;\n",
       "    }\n",
       "</style>\n",
       "<table border=\"1\" class=\"dataframe\">\n",
       "  <thead>\n",
       "    <tr style=\"text-align: right;\">\n",
       "      <th></th>\n",
       "      <th>Farm Name</th>\n",
       "      <th>Altitude (meters)</th>\n",
       "      <th>Coffee Variety</th>\n",
       "      <th>Annual Production (Kg)</th>\n",
       "    </tr>\n",
       "  </thead>\n",
       "  <tbody>\n",
       "    <tr>\n",
       "      <th>La Aurora</th>\n",
       "      <td>La Aurora</td>\n",
       "      <td>1600</td>\n",
       "      <td>Castillo</td>\n",
       "      <td>5000</td>\n",
       "    </tr>\n",
       "    <tr>\n",
       "      <th>El Mirador</th>\n",
       "      <td>El Mirador</td>\n",
       "      <td>1850</td>\n",
       "      <td>Caturra</td>\n",
       "      <td>7500</td>\n",
       "    </tr>\n",
       "    <tr>\n",
       "      <th>Bella Vista</th>\n",
       "      <td>Bella Vista</td>\n",
       "      <td>1700</td>\n",
       "      <td>Colombia</td>\n",
       "      <td>6000</td>\n",
       "    </tr>\n",
       "  </tbody>\n",
       "</table>\n",
       "</div>"
      ],
      "text/plain": [
       "               Farm Name  Altitude (meters) Coffee Variety  \\\n",
       "La Aurora      La Aurora               1600       Castillo   \n",
       "El Mirador    El Mirador               1850        Caturra   \n",
       "Bella Vista  Bella Vista               1700       Colombia   \n",
       "\n",
       "             Annual Production (Kg)  \n",
       "La Aurora                      5000  \n",
       "El Mirador                     7500  \n",
       "Bella Vista                    6000  "
      ]
     },
     "execution_count": 66,
     "metadata": {},
     "output_type": "execute_result"
    }
   ],
   "source": [
    "# Dataframe creation and index column assigment\n",
    "coffe_farms= {\"Farm Name\": [\"La Aurora\", \"El Mirador\", \"Bella Vista\"],\n",
    "             \"Altitude (meters)\": [1600, 1850, 1700],\n",
    "             \"Coffee Variety\": [\"Castillo\", \"Caturra\", \"Colombia\"],\n",
    "             \"Annual Production (Kg)\": [5000, 7500, 6000],}\n",
    "\n",
    "df_coffee_farms = pd.DataFrame(coffe_farms, index= coffe_farms[\"Farm Name\"])\n",
    "df_coffee_farms"
   ]
  },
  {
   "cell_type": "code",
   "execution_count": 67,
   "id": "05185175-9639-42b5-b4dd-0f50d635c27b",
   "metadata": {},
   "outputs": [
    {
     "data": {
      "text/plain": [
       "La Aurora      1600\n",
       "El Mirador     1850\n",
       "Bella Vista    1700\n",
       "Name: Altitude (meters), dtype: int64"
      ]
     },
     "execution_count": 67,
     "metadata": {},
     "output_type": "execute_result"
    }
   ],
   "source": [
    "# Print only one column\n",
    "df_coffee_farms[\"Altitude (meters)\"]"
   ]
  },
  {
   "cell_type": "markdown",
   "id": "a63be6f2-1d0e-460b-9d02-00be44317dcc",
   "metadata": {},
   "source": [
    "----\n",
    "***Note**: pd.loc[] and pd.iloc[] are used to iterate over rows, not columns*"
   ]
  },
  {
   "cell_type": "code",
   "execution_count": 68,
   "id": "782ddd23-9d43-4942-9507-85f5c73c0b6b",
   "metadata": {},
   "outputs": [
    {
     "data": {
      "text/html": [
       "<div>\n",
       "<style scoped>\n",
       "    .dataframe tbody tr th:only-of-type {\n",
       "        vertical-align: middle;\n",
       "    }\n",
       "\n",
       "    .dataframe tbody tr th {\n",
       "        vertical-align: top;\n",
       "    }\n",
       "\n",
       "    .dataframe thead th {\n",
       "        text-align: right;\n",
       "    }\n",
       "</style>\n",
       "<table border=\"1\" class=\"dataframe\">\n",
       "  <thead>\n",
       "    <tr style=\"text-align: right;\">\n",
       "      <th></th>\n",
       "      <th>Coffee Variety</th>\n",
       "      <th>Annual Production (Kg)</th>\n",
       "    </tr>\n",
       "  </thead>\n",
       "  <tbody>\n",
       "    <tr>\n",
       "      <th>La Aurora</th>\n",
       "      <td>Castillo</td>\n",
       "      <td>5000</td>\n",
       "    </tr>\n",
       "    <tr>\n",
       "      <th>El Mirador</th>\n",
       "      <td>Caturra</td>\n",
       "      <td>7500</td>\n",
       "    </tr>\n",
       "    <tr>\n",
       "      <th>Bella Vista</th>\n",
       "      <td>Colombia</td>\n",
       "      <td>6000</td>\n",
       "    </tr>\n",
       "  </tbody>\n",
       "</table>\n",
       "</div>"
      ],
      "text/plain": [
       "            Coffee Variety  Annual Production (Kg)\n",
       "La Aurora         Castillo                    5000\n",
       "El Mirador         Caturra                    7500\n",
       "Bella Vista       Colombia                    6000"
      ]
     },
     "execution_count": 68,
     "metadata": {},
     "output_type": "execute_result"
    }
   ],
   "source": [
    "# Print two columns\n",
    "df_coffee_farms.filter([df.columns[-2], df.columns[-1]], axis= \"columns\")"
   ]
  },
  {
   "cell_type": "markdown",
   "id": "3ad1566f-eb81-433b-b459-cbc46b5f4af1",
   "metadata": {},
   "source": [
    "----\n",
    "***Note**: pd.filter() is used when filtering by label index or columns*"
   ]
  },
  {
   "cell_type": "markdown",
   "id": "cbcf3c9d-c550-4589-93d7-af9a6f4ac7d2",
   "metadata": {},
   "source": [
    "## Exercise 3: Data Selection with loc and iloc (Focus: Indexing Objects - loc & iloc)\n",
    "\n",
    "- **Scenario:** You have a DataFrame of tourist attractions in Risaralda.\n",
    "\n",
    "- **Task:**\n",
    "\n",
    "1. Create a DataFrame named attractions with the following data:\n",
    "\n",
    "    - Name: 'Nevado Santa Isabel', 'Termales de Santa Rosa', 'Viaducto César Gaviria Trujillo', 'Parque Consotá'\n",
    "\n",
    "    - Location: 'Santa Rosa de Cabal', 'Santa Rosa de Cabal', 'Pereira/Dosquebradas', 'Pereira'\n",
    "\n",
    "    - Type: 'Mountain', 'Hot Springs', 'Bridge', 'Recreational Park'\n",
    "\n",
    "    - Rating (out of 5): 4.8, 4.5, 4.2, 4.0\n",
    "\n",
    "2. Using loc, select and print the entire row for 'Termales de Santa Rosa'.\n",
    "\n",
    "3. Using iloc, select and print the 'Name' and 'Location' for the first two attractions.\n",
    "\n",
    "4. Using loc, select and print the 'Type' and 'Rating' for 'Nevado Santa Isabel' and 'Parque Consotá'."
   ]
  },
  {
   "cell_type": "code",
   "execution_count": 153,
   "id": "d7122266-a8b1-40a9-ae79-e28663ba01df",
   "metadata": {},
   "outputs": [
    {
     "data": {
      "text/html": [
       "<div>\n",
       "<style scoped>\n",
       "    .dataframe tbody tr th:only-of-type {\n",
       "        vertical-align: middle;\n",
       "    }\n",
       "\n",
       "    .dataframe tbody tr th {\n",
       "        vertical-align: top;\n",
       "    }\n",
       "\n",
       "    .dataframe thead th {\n",
       "        text-align: right;\n",
       "    }\n",
       "</style>\n",
       "<table border=\"1\" class=\"dataframe\">\n",
       "  <thead>\n",
       "    <tr style=\"text-align: right;\">\n",
       "      <th></th>\n",
       "      <th>Name</th>\n",
       "      <th>Location</th>\n",
       "      <th>Type</th>\n",
       "      <th>Rating (out of 5)</th>\n",
       "    </tr>\n",
       "  </thead>\n",
       "  <tbody>\n",
       "    <tr>\n",
       "      <th>0</th>\n",
       "      <td>Nevado Santa Isabel</td>\n",
       "      <td>Santa Rosa de Cabal</td>\n",
       "      <td>Mountain</td>\n",
       "      <td>4.8</td>\n",
       "    </tr>\n",
       "    <tr>\n",
       "      <th>1</th>\n",
       "      <td>Termales de Santa Rosa</td>\n",
       "      <td>Santa Rosa de Cabal</td>\n",
       "      <td>Hot Springs</td>\n",
       "      <td>4.5</td>\n",
       "    </tr>\n",
       "    <tr>\n",
       "      <th>2</th>\n",
       "      <td>Viaducto César Gaviria Trujillo</td>\n",
       "      <td>Pereira/Dosquebradas</td>\n",
       "      <td>Bridge</td>\n",
       "      <td>4.2</td>\n",
       "    </tr>\n",
       "    <tr>\n",
       "      <th>3</th>\n",
       "      <td>Parque Consotá</td>\n",
       "      <td>Pereira</td>\n",
       "      <td>Recreational Park</td>\n",
       "      <td>4.0</td>\n",
       "    </tr>\n",
       "  </tbody>\n",
       "</table>\n",
       "</div>"
      ],
      "text/plain": [
       "                              Name              Location               Type  \\\n",
       "0              Nevado Santa Isabel   Santa Rosa de Cabal           Mountain   \n",
       "1           Termales de Santa Rosa   Santa Rosa de Cabal        Hot Springs   \n",
       "2  Viaducto César Gaviria Trujillo  Pereira/Dosquebradas             Bridge   \n",
       "3                   Parque Consotá               Pereira  Recreational Park   \n",
       "\n",
       "   Rating (out of 5)  \n",
       "0                4.8  \n",
       "1                4.5  \n",
       "2                4.2  \n",
       "3                4.0  "
      ]
     },
     "execution_count": 153,
     "metadata": {},
     "output_type": "execute_result"
    }
   ],
   "source": [
    "# Create DF\n",
    "attractions = {\n",
    "    \"Name\": ['Nevado Santa Isabel', 'Termales de Santa Rosa', 'Viaducto César Gaviria Trujillo', 'Parque Consotá'],\n",
    "    \"Location\": ['Santa Rosa de Cabal', 'Santa Rosa de Cabal', 'Pereira/Dosquebradas', 'Pereira'],\n",
    "    \"Type\": ['Mountain', 'Hot Springs', 'Bridge', 'Recreational Park'],\n",
    "    \"Rating (out of 5)\": [4.8, 4.5, 4.2, 4.0],\n",
    "}\n",
    "\n",
    "df_attractions= pd.DataFrame(attractions)\n",
    "df_attractions"
   ]
  },
  {
   "cell_type": "code",
   "execution_count": 134,
   "id": "efc970c4-6526-40f0-81ac-9633d761adfa",
   "metadata": {},
   "outputs": [
    {
     "data": {
      "text/plain": [
       "Name                 Termales de Santa Rosa\n",
       "Location                Santa Rosa de Cabal\n",
       "Type                            Hot Springs\n",
       "Rating (out of 5)                       4.5\n",
       "Name: 1, dtype: object"
      ]
     },
     "execution_count": 134,
     "metadata": {},
     "output_type": "execute_result"
    }
   ],
   "source": [
    "# Print col with loc[]\n",
    "df_attractions.loc[1]"
   ]
  },
  {
   "cell_type": "code",
   "execution_count": 139,
   "id": "0412fff3-1892-4cbc-9933-00eb9f526c16",
   "metadata": {},
   "outputs": [
    {
     "data": {
      "text/html": [
       "<div>\n",
       "<style scoped>\n",
       "    .dataframe tbody tr th:only-of-type {\n",
       "        vertical-align: middle;\n",
       "    }\n",
       "\n",
       "    .dataframe tbody tr th {\n",
       "        vertical-align: top;\n",
       "    }\n",
       "\n",
       "    .dataframe thead th {\n",
       "        text-align: right;\n",
       "    }\n",
       "</style>\n",
       "<table border=\"1\" class=\"dataframe\">\n",
       "  <thead>\n",
       "    <tr style=\"text-align: right;\">\n",
       "      <th></th>\n",
       "      <th>Name</th>\n",
       "      <th>Location</th>\n",
       "    </tr>\n",
       "  </thead>\n",
       "  <tbody>\n",
       "    <tr>\n",
       "      <th>0</th>\n",
       "      <td>Nevado Santa Isabel</td>\n",
       "      <td>Santa Rosa de Cabal</td>\n",
       "    </tr>\n",
       "    <tr>\n",
       "      <th>1</th>\n",
       "      <td>Termales de Santa Rosa</td>\n",
       "      <td>Santa Rosa de Cabal</td>\n",
       "    </tr>\n",
       "  </tbody>\n",
       "</table>\n",
       "</div>"
      ],
      "text/plain": [
       "                     Name             Location\n",
       "0     Nevado Santa Isabel  Santa Rosa de Cabal\n",
       "1  Termales de Santa Rosa  Santa Rosa de Cabal"
      ]
     },
     "execution_count": 139,
     "metadata": {},
     "output_type": "execute_result"
    }
   ],
   "source": [
    "# Print two cols with iloc[]\n",
    "df_attractions.iloc[:2, [0,1]]    # Fancy indexing"
   ]
  },
  {
   "cell_type": "code",
   "execution_count": 156,
   "id": "7d3b9b40-2a6d-4233-aa50-b296d8b234f1",
   "metadata": {},
   "outputs": [
    {
     "data": {
      "text/html": [
       "<div>\n",
       "<style scoped>\n",
       "    .dataframe tbody tr th:only-of-type {\n",
       "        vertical-align: middle;\n",
       "    }\n",
       "\n",
       "    .dataframe tbody tr th {\n",
       "        vertical-align: top;\n",
       "    }\n",
       "\n",
       "    .dataframe thead th {\n",
       "        text-align: right;\n",
       "    }\n",
       "</style>\n",
       "<table border=\"1\" class=\"dataframe\">\n",
       "  <thead>\n",
       "    <tr style=\"text-align: right;\">\n",
       "      <th></th>\n",
       "      <th>Type</th>\n",
       "      <th>Rating (out of 5)</th>\n",
       "    </tr>\n",
       "  </thead>\n",
       "  <tbody>\n",
       "    <tr>\n",
       "      <th>0</th>\n",
       "      <td>Mountain</td>\n",
       "      <td>4.8</td>\n",
       "    </tr>\n",
       "    <tr>\n",
       "      <th>1</th>\n",
       "      <td>Hot Springs</td>\n",
       "      <td>4.5</td>\n",
       "    </tr>\n",
       "  </tbody>\n",
       "</table>\n",
       "</div>"
      ],
      "text/plain": [
       "          Type  Rating (out of 5)\n",
       "0     Mountain                4.8\n",
       "1  Hot Springs                4.5"
      ]
     },
     "execution_count": 156,
     "metadata": {},
     "output_type": "execute_result"
    }
   ],
   "source": [
    "# Print two cols and two rows with loc[]\n",
    "# First way: setting 'Name' as df index\n",
    "df_name_as_col = df_attractions.set_index(\"Name\")\n",
    "df_name_as_col.loc[[\"Nevado Santa Isabel\", \"Parque Consotá\"], [\"Type\", \"Rating (out of 5)\"]]\n",
    "\n",
    "# Second way: get rows by slice\n",
    "df_attractions.loc[:1, [\"Type\", \"Rating (out of 5)\"]]"
   ]
  },
  {
   "cell_type": "markdown",
   "id": "8d663427-9239-4888-929b-39c94c9f9d06",
   "metadata": {},
   "source": [
    "## Exercise 4: Adding/Modifying Data and Boolean Indexing (Focus: Series, DataFrame, Indexing)\n",
    "\n",
    "- **Scenario:** You're managing a small inventory of traditional Colombian crafts in a shop in Dosquebradas.\n",
    "\n",
    "- **Task:**\n",
    "\n",
    "1. Create a DataFrame craft_inventory with the following data:\n",
    "\n",
    "    - Item: 'Sombrero Vueltiao', 'Mochila Arhuaca', 'Ruana', 'Artesanía en Guadua'\n",
    "\n",
    "    - Quantity: 15, 8, 12, 20\n",
    "\n",
    "    - Price (COP): 85000, 120000, 95000, 30000\n",
    "\n",
    "2. Add a new column named 'In Stock' which is True if 'Quantity' is greater than 10, and False otherwise.\n",
    "\n",
    "3. Increase the 'Price (COP)' of all items by 10% (imagine a slight price adjustment).\n",
    "\n",
    "4. Using boolean indexing, print only the items that are currently 'In Stock'."
   ]
  },
  {
   "cell_type": "code",
   "execution_count": 107,
   "id": "db0e6f60-f279-4d8c-a732-e599519c4ba1",
   "metadata": {},
   "outputs": [
    {
     "data": {
      "text/html": [
       "<div>\n",
       "<style scoped>\n",
       "    .dataframe tbody tr th:only-of-type {\n",
       "        vertical-align: middle;\n",
       "    }\n",
       "\n",
       "    .dataframe tbody tr th {\n",
       "        vertical-align: top;\n",
       "    }\n",
       "\n",
       "    .dataframe thead th {\n",
       "        text-align: right;\n",
       "    }\n",
       "</style>\n",
       "<table border=\"1\" class=\"dataframe\">\n",
       "  <thead>\n",
       "    <tr style=\"text-align: right;\">\n",
       "      <th></th>\n",
       "      <th>Item</th>\n",
       "      <th>Quantity</th>\n",
       "      <th>Price (COP)</th>\n",
       "      <th>Stock</th>\n",
       "    </tr>\n",
       "  </thead>\n",
       "  <tbody>\n",
       "    <tr>\n",
       "      <th>0</th>\n",
       "      <td>Sombrero Vueltiao</td>\n",
       "      <td>15</td>\n",
       "      <td>85000</td>\n",
       "      <td>True</td>\n",
       "    </tr>\n",
       "    <tr>\n",
       "      <th>1</th>\n",
       "      <td>Mochila Arhuaca</td>\n",
       "      <td>8</td>\n",
       "      <td>120000</td>\n",
       "      <td>False</td>\n",
       "    </tr>\n",
       "    <tr>\n",
       "      <th>2</th>\n",
       "      <td>Ruana</td>\n",
       "      <td>12</td>\n",
       "      <td>95000</td>\n",
       "      <td>True</td>\n",
       "    </tr>\n",
       "    <tr>\n",
       "      <th>3</th>\n",
       "      <td>Artesanía en Guadua</td>\n",
       "      <td>20</td>\n",
       "      <td>30000</td>\n",
       "      <td>True</td>\n",
       "    </tr>\n",
       "  </tbody>\n",
       "</table>\n",
       "</div>"
      ],
      "text/plain": [
       "                  Item  Quantity  Price (COP)  Stock\n",
       "0    Sombrero Vueltiao        15        85000   True\n",
       "1      Mochila Arhuaca         8       120000  False\n",
       "2                Ruana        12        95000   True\n",
       "3  Artesanía en Guadua        20        30000   True"
      ]
     },
     "execution_count": 107,
     "metadata": {},
     "output_type": "execute_result"
    }
   ],
   "source": [
    "# Create DF and add new column\n",
    "craft_inventory= {\n",
    "    \"Item\": ['Sombrero Vueltiao', 'Mochila Arhuaca', 'Ruana', 'Artesanía en Guadua'],\n",
    "    \"Quantity\": [15, 8, 12, 20],\n",
    "    \"Price (COP)\": [85000, 120000, 95000, 30000],\n",
    "}\n",
    "\n",
    "df_craft_inventory= pd.DataFrame(craft_inventory)\n",
    "df_craft_inventory[\"Stock\"] = df_craft_inventory[\"Quantity\"] > 10\n",
    "df_craft_inventory"
   ]
  },
  {
   "cell_type": "code",
   "execution_count": 108,
   "id": "11fe1bd0-c98a-416d-b876-9f3c8e072cd7",
   "metadata": {},
   "outputs": [
    {
     "data": {
      "text/html": [
       "<div>\n",
       "<style scoped>\n",
       "    .dataframe tbody tr th:only-of-type {\n",
       "        vertical-align: middle;\n",
       "    }\n",
       "\n",
       "    .dataframe tbody tr th {\n",
       "        vertical-align: top;\n",
       "    }\n",
       "\n",
       "    .dataframe thead th {\n",
       "        text-align: right;\n",
       "    }\n",
       "</style>\n",
       "<table border=\"1\" class=\"dataframe\">\n",
       "  <thead>\n",
       "    <tr style=\"text-align: right;\">\n",
       "      <th></th>\n",
       "      <th>Item</th>\n",
       "      <th>Quantity</th>\n",
       "      <th>Price (COP)</th>\n",
       "      <th>Stock</th>\n",
       "    </tr>\n",
       "  </thead>\n",
       "  <tbody>\n",
       "    <tr>\n",
       "      <th>0</th>\n",
       "      <td>Sombrero Vueltiao</td>\n",
       "      <td>15</td>\n",
       "      <td>93500.0</td>\n",
       "      <td>True</td>\n",
       "    </tr>\n",
       "    <tr>\n",
       "      <th>1</th>\n",
       "      <td>Mochila Arhuaca</td>\n",
       "      <td>8</td>\n",
       "      <td>132000.0</td>\n",
       "      <td>False</td>\n",
       "    </tr>\n",
       "    <tr>\n",
       "      <th>2</th>\n",
       "      <td>Ruana</td>\n",
       "      <td>12</td>\n",
       "      <td>104500.0</td>\n",
       "      <td>True</td>\n",
       "    </tr>\n",
       "    <tr>\n",
       "      <th>3</th>\n",
       "      <td>Artesanía en Guadua</td>\n",
       "      <td>20</td>\n",
       "      <td>33000.0</td>\n",
       "      <td>True</td>\n",
       "    </tr>\n",
       "  </tbody>\n",
       "</table>\n",
       "</div>"
      ],
      "text/plain": [
       "                  Item  Quantity  Price (COP)  Stock\n",
       "0    Sombrero Vueltiao        15      93500.0   True\n",
       "1      Mochila Arhuaca         8     132000.0  False\n",
       "2                Ruana        12     104500.0   True\n",
       "3  Artesanía en Guadua        20      33000.0   True"
      ]
     },
     "execution_count": 108,
     "metadata": {},
     "output_type": "execute_result"
    }
   ],
   "source": [
    "# Increse price by 10%\n",
    "df_craft_inventory[\"Price (COP)\"]+= df_craft_inventory[\"Price (COP)\"]*0.1\n",
    "df_craft_inventory"
   ]
  },
  {
   "cell_type": "code",
   "execution_count": 130,
   "id": "1fa03949-6c77-4717-bdb4-592f37a112d4",
   "metadata": {},
   "outputs": [
    {
     "data": {
      "text/html": [
       "<div>\n",
       "<style scoped>\n",
       "    .dataframe tbody tr th:only-of-type {\n",
       "        vertical-align: middle;\n",
       "    }\n",
       "\n",
       "    .dataframe tbody tr th {\n",
       "        vertical-align: top;\n",
       "    }\n",
       "\n",
       "    .dataframe thead th {\n",
       "        text-align: right;\n",
       "    }\n",
       "</style>\n",
       "<table border=\"1\" class=\"dataframe\">\n",
       "  <thead>\n",
       "    <tr style=\"text-align: right;\">\n",
       "      <th></th>\n",
       "      <th>Item</th>\n",
       "      <th>Quantity</th>\n",
       "      <th>Price (COP)</th>\n",
       "    </tr>\n",
       "  </thead>\n",
       "  <tbody>\n",
       "    <tr>\n",
       "      <th>0</th>\n",
       "      <td>Sombrero Vueltiao</td>\n",
       "      <td>15</td>\n",
       "      <td>93500.0</td>\n",
       "    </tr>\n",
       "    <tr>\n",
       "      <th>1</th>\n",
       "      <td>Mochila Arhuaca</td>\n",
       "      <td>8</td>\n",
       "      <td>132000.0</td>\n",
       "    </tr>\n",
       "    <tr>\n",
       "      <th>2</th>\n",
       "      <td>Ruana</td>\n",
       "      <td>12</td>\n",
       "      <td>104500.0</td>\n",
       "    </tr>\n",
       "    <tr>\n",
       "      <th>3</th>\n",
       "      <td>Artesanía en Guadua</td>\n",
       "      <td>20</td>\n",
       "      <td>33000.0</td>\n",
       "    </tr>\n",
       "  </tbody>\n",
       "</table>\n",
       "</div>"
      ],
      "text/plain": [
       "                  Item  Quantity  Price (COP)\n",
       "0    Sombrero Vueltiao        15      93500.0\n",
       "1      Mochila Arhuaca         8     132000.0\n",
       "2                Ruana        12     104500.0\n",
       "3  Artesanía en Guadua        20      33000.0"
      ]
     },
     "execution_count": 130,
     "metadata": {},
     "output_type": "execute_result"
    }
   ],
   "source": [
    "# Boolean indexing\n",
    "df_craft_inventory[df_craft_inventory[\"Stock\"] == True]\n",
    "df_craft_inventory.iloc[:, :-1]"
   ]
  },
  {
   "cell_type": "markdown",
   "id": "86aa21e4-7fe5-4e06-8631-ef7baffb1392",
   "metadata": {},
   "source": [
    "## Exercise 5: Reindexing and Dropping Data (Focus: Indexing Objects)\n",
    "\n",
    "- Scenario: You have sales data for different fruits in a local market in Dosquebradas, but the order of days is a bit mixed up, and you need to remove some data.\n",
    "\n",
    "- Task:\n",
    "\n",
    "1. Create a Series fruit_sales with the following data:\n",
    "\n",
    "    - Sales (kg): 25, 30, 18, 22, 35\n",
    "\n",
    "    - Index (Day): 'Wednesday', 'Monday', 'Friday', 'Tuesday', 'Thursday'\n",
    "\n",
    "2. Reindex the fruit_sales Series to be in chronological order of days of the week (Monday, Tuesday, Wednesday, Thursday, Friday). Fill any missing values with 0.\n",
    "\n",
    "3. Create a new DataFrame monthly_expenses with two columns: 'Category' and 'Amount (COP)', and three rows: 'Rent', 'Utilities', 'Salaries' with amounts 1500000, 300000, 2500000 respectively.\n",
    "\n",
    "4. Drop the 'Utilities' row from the monthly_expenses DataFrame and print the result. (Ensure you understand if it's an in-place operation or returns a new DataFrame)."
   ]
  },
  {
   "cell_type": "code",
   "execution_count": 164,
   "id": "ed1b1662-8567-4f94-80e9-25ad8ab7cc28",
   "metadata": {},
   "outputs": [
    {
     "data": {
      "text/html": [
       "<div>\n",
       "<style scoped>\n",
       "    .dataframe tbody tr th:only-of-type {\n",
       "        vertical-align: middle;\n",
       "    }\n",
       "\n",
       "    .dataframe tbody tr th {\n",
       "        vertical-align: top;\n",
       "    }\n",
       "\n",
       "    .dataframe thead th {\n",
       "        text-align: right;\n",
       "    }\n",
       "</style>\n",
       "<table border=\"1\" class=\"dataframe\">\n",
       "  <thead>\n",
       "    <tr style=\"text-align: right;\">\n",
       "      <th></th>\n",
       "      <th>Sales (kg)</th>\n",
       "    </tr>\n",
       "    <tr>\n",
       "      <th>Day</th>\n",
       "      <th></th>\n",
       "    </tr>\n",
       "  </thead>\n",
       "  <tbody>\n",
       "    <tr>\n",
       "      <th>Wednesday</th>\n",
       "      <td>25</td>\n",
       "    </tr>\n",
       "    <tr>\n",
       "      <th>Monday</th>\n",
       "      <td>30</td>\n",
       "    </tr>\n",
       "    <tr>\n",
       "      <th>Friday</th>\n",
       "      <td>18</td>\n",
       "    </tr>\n",
       "    <tr>\n",
       "      <th>Tuesday</th>\n",
       "      <td>22</td>\n",
       "    </tr>\n",
       "    <tr>\n",
       "      <th>Thursday</th>\n",
       "      <td>35</td>\n",
       "    </tr>\n",
       "  </tbody>\n",
       "</table>\n",
       "</div>"
      ],
      "text/plain": [
       "           Sales (kg)\n",
       "Day                  \n",
       "Wednesday          25\n",
       "Monday             30\n",
       "Friday             18\n",
       "Tuesday            22\n",
       "Thursday           35"
      ]
     },
     "execution_count": 164,
     "metadata": {},
     "output_type": "execute_result"
    }
   ],
   "source": [
    "# Creating DF\n",
    "fruit_sale= {\n",
    "    \"Sales (kg)\": [25, 30, 18, 22, 35],\n",
    "    \"Day\": ['Wednesday', 'Monday', 'Friday', 'Tuesday', 'Thursday']\n",
    "}\n",
    "df_fruit_sale= pd.DataFrame(fruit_sale).set_index(\"Day\")\n",
    "df_fruit_sale"
   ]
  },
  {
   "cell_type": "code",
   "execution_count": 166,
   "id": "bc36f4cc-29c6-4822-8731-e22b0f75ed59",
   "metadata": {},
   "outputs": [
    {
     "data": {
      "text/html": [
       "<div>\n",
       "<style scoped>\n",
       "    .dataframe tbody tr th:only-of-type {\n",
       "        vertical-align: middle;\n",
       "    }\n",
       "\n",
       "    .dataframe tbody tr th {\n",
       "        vertical-align: top;\n",
       "    }\n",
       "\n",
       "    .dataframe thead th {\n",
       "        text-align: right;\n",
       "    }\n",
       "</style>\n",
       "<table border=\"1\" class=\"dataframe\">\n",
       "  <thead>\n",
       "    <tr style=\"text-align: right;\">\n",
       "      <th></th>\n",
       "      <th>Sales (kg)</th>\n",
       "    </tr>\n",
       "    <tr>\n",
       "      <th>Day</th>\n",
       "      <th></th>\n",
       "    </tr>\n",
       "  </thead>\n",
       "  <tbody>\n",
       "    <tr>\n",
       "      <th>Monday</th>\n",
       "      <td>30</td>\n",
       "    </tr>\n",
       "    <tr>\n",
       "      <th>Tuesday</th>\n",
       "      <td>22</td>\n",
       "    </tr>\n",
       "    <tr>\n",
       "      <th>Wednesday</th>\n",
       "      <td>25</td>\n",
       "    </tr>\n",
       "    <tr>\n",
       "      <th>Thursday</th>\n",
       "      <td>35</td>\n",
       "    </tr>\n",
       "    <tr>\n",
       "      <th>Friday</th>\n",
       "      <td>18</td>\n",
       "    </tr>\n",
       "  </tbody>\n",
       "</table>\n",
       "</div>"
      ],
      "text/plain": [
       "           Sales (kg)\n",
       "Day                  \n",
       "Monday             30\n",
       "Tuesday            22\n",
       "Wednesday          25\n",
       "Thursday           35\n",
       "Friday             18"
      ]
     },
     "execution_count": 166,
     "metadata": {},
     "output_type": "execute_result"
    }
   ],
   "source": [
    "# Reindexing\n",
    "df_fruit_sale.reindex([\"Monday\", 'Tuesday', 'Wednesday', 'Thursday', 'Friday'], fill_value= 0)"
   ]
  },
  {
   "cell_type": "markdown",
   "id": "e615de7b-8121-4b45-ad51-394abc00d0bb",
   "metadata": {},
   "source": [
    "----\n",
    "***Note**: .reindex functions 'reindex' the current index, if indexes are not present in the current index when passed, the values for those indexes in the dataframe will be null (nan)*"
   ]
  },
  {
   "cell_type": "code",
   "execution_count": 193,
   "id": "f8394000-2528-4d37-9a64-976cd293a0ac",
   "metadata": {},
   "outputs": [
    {
     "name": "stdout",
     "output_type": "stream",
     "text": [
      "Index([1, 3], dtype='int64')\n"
     ]
    },
    {
     "data": {
      "text/html": [
       "<div>\n",
       "<style scoped>\n",
       "    .dataframe tbody tr th:only-of-type {\n",
       "        vertical-align: middle;\n",
       "    }\n",
       "\n",
       "    .dataframe tbody tr th {\n",
       "        vertical-align: top;\n",
       "    }\n",
       "\n",
       "    .dataframe thead th {\n",
       "        text-align: right;\n",
       "    }\n",
       "</style>\n",
       "<table border=\"1\" class=\"dataframe\">\n",
       "  <thead>\n",
       "    <tr style=\"text-align: right;\">\n",
       "      <th></th>\n",
       "      <th>Category</th>\n",
       "      <th>Amount (COP)</th>\n",
       "    </tr>\n",
       "  </thead>\n",
       "  <tbody>\n",
       "    <tr>\n",
       "      <th>0</th>\n",
       "      <td>Rent</td>\n",
       "      <td>1500000</td>\n",
       "    </tr>\n",
       "    <tr>\n",
       "      <th>2</th>\n",
       "      <td>Salaries</td>\n",
       "      <td>2500000</td>\n",
       "    </tr>\n",
       "  </tbody>\n",
       "</table>\n",
       "</div>"
      ],
      "text/plain": [
       "   Category  Amount (COP)\n",
       "0      Rent       1500000\n",
       "2  Salaries       2500000"
      ]
     },
     "execution_count": 193,
     "metadata": {},
     "output_type": "execute_result"
    }
   ],
   "source": [
    "# Create new DF\n",
    "montly_expenses= {\n",
    "    \"Category\": ['Rent', 'Utilities', 'Salaries', 'Utilities'],\n",
    "    \"Amount (COP)\": [1500000, 300000, 2500000, 1203600],\n",
    "}\n",
    "\n",
    "df_montly_expenses= pd.DataFrame(montly_expenses)\n",
    "\n",
    "# Drop entrie \n",
    "# First way: hardcoding\n",
    "dropped_entry= df_montly_expenses.drop(1)\n",
    "\n",
    "# Second way: search for indexes\n",
    "indexes= df_montly_expenses[df_montly_expenses[\"Category\"] == \"Utilities\"].index\n",
    "dropped_entry= df_montly_expenses.drop(indexes)\n",
    "print(indexes)\n",
    "dropped_entry \n"
   ]
  },
  {
   "cell_type": "markdown",
   "id": "9506fd0b-f187-4ec9-a055-a07ba920fd6a",
   "metadata": {},
   "source": [
    "----\n",
    "***Note**: dropping entries can be in-place if 'inplace' kargument is set to True*"
   ]
  }
 ],
 "metadata": {
  "kernelspec": {
   "display_name": "Python 3 (ipykernel)",
   "language": "python",
   "name": "python3"
  },
  "language_info": {
   "codemirror_mode": {
    "name": "ipython",
    "version": 3
   },
   "file_extension": ".py",
   "mimetype": "text/x-python",
   "name": "python",
   "nbconvert_exporter": "python",
   "pygments_lexer": "ipython3",
   "version": "3.13.5"
  }
 },
 "nbformat": 4,
 "nbformat_minor": 5
}
