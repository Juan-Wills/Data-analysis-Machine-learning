{
 "cells": [
  {
   "cell_type": "code",
   "execution_count": 150,
   "id": "1e13e52f",
   "metadata": {},
   "outputs": [
    {
     "data": {
      "text/html": [
       "<div>\n",
       "<style scoped>\n",
       "    .dataframe tbody tr th:only-of-type {\n",
       "        vertical-align: middle;\n",
       "    }\n",
       "\n",
       "    .dataframe tbody tr th {\n",
       "        vertical-align: top;\n",
       "    }\n",
       "\n",
       "    .dataframe thead th {\n",
       "        text-align: right;\n",
       "    }\n",
       "</style>\n",
       "<table border=\"1\" class=\"dataframe\">\n",
       "  <thead>\n",
       "    <tr style=\"text-align: right;\">\n",
       "      <th></th>\n",
       "      <th>Region</th>\n",
       "      <th>Product_Category</th>\n",
       "      <th>Sales_USD</th>\n",
       "      <th>Units_Sold</th>\n",
       "      <th>Customer_Rating</th>\n",
       "      <th>Employee_Performance_Score</th>\n",
       "      <th>Has_Warranty</th>\n",
       "      <th>Customer_Segment</th>\n",
       "      <th>Delivery_Time_Days</th>\n",
       "    </tr>\n",
       "  </thead>\n",
       "  <tbody>\n",
       "    <tr>\n",
       "      <th>0</th>\n",
       "      <td>East</td>\n",
       "      <td>Home Goods</td>\n",
       "      <td>112.0</td>\n",
       "      <td>7</td>\n",
       "      <td>1.0</td>\n",
       "      <td>86.407895</td>\n",
       "      <td>True</td>\n",
       "      <td>Loyal</td>\n",
       "      <td>8</td>\n",
       "    </tr>\n",
       "    <tr>\n",
       "      <th>1</th>\n",
       "      <td>West</td>\n",
       "      <td>Clothing</td>\n",
       "      <td>401.0</td>\n",
       "      <td>8</td>\n",
       "      <td>1.0</td>\n",
       "      <td>71.197356</td>\n",
       "      <td>True</td>\n",
       "      <td>Loyal</td>\n",
       "      <td>6</td>\n",
       "    </tr>\n",
       "    <tr>\n",
       "      <th>2</th>\n",
       "      <td>North</td>\n",
       "      <td>Clothing</td>\n",
       "      <td>280.0</td>\n",
       "      <td>1</td>\n",
       "      <td>NaN</td>\n",
       "      <td>98.194611</td>\n",
       "      <td>True</td>\n",
       "      <td>Loyal</td>\n",
       "      <td>14</td>\n",
       "    </tr>\n",
       "    <tr>\n",
       "      <th>3</th>\n",
       "      <td>East</td>\n",
       "      <td>Food</td>\n",
       "      <td>290.0</td>\n",
       "      <td>6</td>\n",
       "      <td>4.0</td>\n",
       "      <td>89.515877</td>\n",
       "      <td>True</td>\n",
       "      <td>Returning</td>\n",
       "      <td>10</td>\n",
       "    </tr>\n",
       "    <tr>\n",
       "      <th>4</th>\n",
       "      <td>East</td>\n",
       "      <td>Clothing</td>\n",
       "      <td>101.0</td>\n",
       "      <td>8</td>\n",
       "      <td>5.0</td>\n",
       "      <td>82.174162</td>\n",
       "      <td>True</td>\n",
       "      <td>Returning</td>\n",
       "      <td>12</td>\n",
       "    </tr>\n",
       "  </tbody>\n",
       "</table>\n",
       "</div>"
      ],
      "text/plain": [
       "  Region Product_Category  Sales_USD  Units_Sold  Customer_Rating  \\\n",
       "0   East       Home Goods      112.0           7              1.0   \n",
       "1   West         Clothing      401.0           8              1.0   \n",
       "2  North         Clothing      280.0           1              NaN   \n",
       "3   East             Food      290.0           6              4.0   \n",
       "4   East         Clothing      101.0           8              5.0   \n",
       "\n",
       "   Employee_Performance_Score  Has_Warranty Customer_Segment  \\\n",
       "0                   86.407895          True            Loyal   \n",
       "1                   71.197356          True            Loyal   \n",
       "2                   98.194611          True            Loyal   \n",
       "3                   89.515877          True        Returning   \n",
       "4                   82.174162          True        Returning   \n",
       "\n",
       "   Delivery_Time_Days  \n",
       "0                   8  \n",
       "1                   6  \n",
       "2                  14  \n",
       "3                  10  \n",
       "4                  12  "
      ]
     },
     "execution_count": 150,
     "metadata": {},
     "output_type": "execute_result"
    }
   ],
   "source": [
    "import pandas as pd\n",
    "import numpy as np\n",
    "\n",
    "# Set a seed for reproducibility\n",
    "np.random.seed(42)\n",
    "\n",
    "# Set row display for large datasets\n",
    "pd.options.display.max_rows = 20\n",
    "\n",
    "data = {\n",
    "    'Region': np.random.choice(['North', 'South', 'East', 'West'], size=100),\n",
    "    'Product_Category': np.random.choice(['Electronics', 'Clothing', 'Home Goods', 'Food'], size=100),\n",
    "    'Sales_USD': np.random.randint(50, 500, size=100),\n",
    "    'Units_Sold': np.random.randint(1, 10, size=100),\n",
    "    'Customer_Rating': np.random.randint(1, 6, size=100), # 1 to 5 stars\n",
    "    'Employee_Performance_Score': np.random.uniform(60, 100, size=100),\n",
    "    'Has_Warranty': np.random.choice([True, False], size=100, p=[0.7, 0.3]),\n",
    "    'Customer_Segment': np.random.choice(['New', 'Returning', 'Loyal'], size=100, p=[0.2, 0.5, 0.3]),\n",
    "    'Delivery_Time_Days': np.random.randint(1, 15, size=100)\n",
    "}\n",
    "df = pd.DataFrame(data)\n",
    "\n",
    "# Introduce some NaN values for robustness\n",
    "for col in ['Sales_USD', 'Customer_Rating', 'Employee_Performance_Score']:\n",
    "    df.loc[np.random.choice(df.index, 5, replace=False), col] = np.nan\n",
    "df.head()"
   ]
  },
  {
   "cell_type": "markdown",
   "id": "e426ec02",
   "metadata": {},
   "source": [
    "## Exercise 1: Basic Descriptive Statistics\n",
    "\n",
    "**Task:** Calculate the basic descriptive statistics (mean, median, min, max, std, count, quartiles) for all numerical columns in the DataFrame."
   ]
  },
  {
   "cell_type": "code",
   "execution_count": 16,
   "id": "a06fa737",
   "metadata": {},
   "outputs": [
    {
     "data": {
      "text/html": [
       "<div>\n",
       "<style scoped>\n",
       "    .dataframe tbody tr th:only-of-type {\n",
       "        vertical-align: middle;\n",
       "    }\n",
       "\n",
       "    .dataframe tbody tr th {\n",
       "        vertical-align: top;\n",
       "    }\n",
       "\n",
       "    .dataframe thead th {\n",
       "        text-align: right;\n",
       "    }\n",
       "</style>\n",
       "<table border=\"1\" class=\"dataframe\">\n",
       "  <thead>\n",
       "    <tr style=\"text-align: right;\">\n",
       "      <th></th>\n",
       "      <th>Sales_USD</th>\n",
       "      <th>Units_Sold</th>\n",
       "      <th>Customer_Rating</th>\n",
       "      <th>Employee_Performance_Score</th>\n",
       "      <th>Delivery_Time_Days</th>\n",
       "    </tr>\n",
       "  </thead>\n",
       "  <tbody>\n",
       "    <tr>\n",
       "      <th>count</th>\n",
       "      <td>95.000000</td>\n",
       "      <td>100.000000</td>\n",
       "      <td>95.000000</td>\n",
       "      <td>95.000000</td>\n",
       "      <td>100.000000</td>\n",
       "    </tr>\n",
       "    <tr>\n",
       "      <th>mean</th>\n",
       "      <td>270.284211</td>\n",
       "      <td>4.780000</td>\n",
       "      <td>2.894737</td>\n",
       "      <td>80.222087</td>\n",
       "      <td>7.630000</td>\n",
       "    </tr>\n",
       "    <tr>\n",
       "      <th>std</th>\n",
       "      <td>120.987397</td>\n",
       "      <td>2.623052</td>\n",
       "      <td>1.440107</td>\n",
       "      <td>11.996773</td>\n",
       "      <td>3.818231</td>\n",
       "    </tr>\n",
       "    <tr>\n",
       "      <th>min</th>\n",
       "      <td>62.000000</td>\n",
       "      <td>1.000000</td>\n",
       "      <td>1.000000</td>\n",
       "      <td>60.433506</td>\n",
       "      <td>1.000000</td>\n",
       "    </tr>\n",
       "    <tr>\n",
       "      <th>25%</th>\n",
       "      <td>172.500000</td>\n",
       "      <td>3.000000</td>\n",
       "      <td>2.000000</td>\n",
       "      <td>71.235773</td>\n",
       "      <td>4.750000</td>\n",
       "    </tr>\n",
       "    <tr>\n",
       "      <th>50%</th>\n",
       "      <td>269.000000</td>\n",
       "      <td>4.000000</td>\n",
       "      <td>3.000000</td>\n",
       "      <td>80.210095</td>\n",
       "      <td>7.500000</td>\n",
       "    </tr>\n",
       "    <tr>\n",
       "      <th>75%</th>\n",
       "      <td>370.000000</td>\n",
       "      <td>7.000000</td>\n",
       "      <td>4.000000</td>\n",
       "      <td>90.247780</td>\n",
       "      <td>10.250000</td>\n",
       "    </tr>\n",
       "    <tr>\n",
       "      <th>max</th>\n",
       "      <td>495.000000</td>\n",
       "      <td>9.000000</td>\n",
       "      <td>5.000000</td>\n",
       "      <td>99.620206</td>\n",
       "      <td>14.000000</td>\n",
       "    </tr>\n",
       "  </tbody>\n",
       "</table>\n",
       "</div>"
      ],
      "text/plain": [
       "        Sales_USD  Units_Sold  Customer_Rating  Employee_Performance_Score  \\\n",
       "count   95.000000  100.000000        95.000000                   95.000000   \n",
       "mean   270.284211    4.780000         2.894737                   80.222087   \n",
       "std    120.987397    2.623052         1.440107                   11.996773   \n",
       "min     62.000000    1.000000         1.000000                   60.433506   \n",
       "25%    172.500000    3.000000         2.000000                   71.235773   \n",
       "50%    269.000000    4.000000         3.000000                   80.210095   \n",
       "75%    370.000000    7.000000         4.000000                   90.247780   \n",
       "max    495.000000    9.000000         5.000000                   99.620206   \n",
       "\n",
       "       Delivery_Time_Days  \n",
       "count          100.000000  \n",
       "mean             7.630000  \n",
       "std              3.818231  \n",
       "min              1.000000  \n",
       "25%              4.750000  \n",
       "50%              7.500000  \n",
       "75%             10.250000  \n",
       "max             14.000000  "
      ]
     },
     "execution_count": 16,
     "metadata": {},
     "output_type": "execute_result"
    }
   ],
   "source": [
    "df.describe()"
   ]
  },
  {
   "cell_type": "markdown",
   "id": "ee48fcb2",
   "metadata": {},
   "source": [
    "## Exercise 2: Correlation Analysis\n",
    "\n",
    "**Scenario:** You want to understand the linear relationships between different numerical variables in your sales data.\n",
    "\n",
    "**Task:**\n",
    "\n",
    "1. Calculate the pairwise correlation matrix for all numerical columns.\n",
    "\n",
    "2. Find the correlation between 'Sales_USD' and 'Units_Sold'.\n",
    "\n",
    "3. Find the correlation between 'Sales_USD' and 'Employee_Performance_Score'."
   ]
  },
  {
   "cell_type": "code",
   "execution_count": 23,
   "id": "56d9d669",
   "metadata": {},
   "outputs": [
    {
     "data": {
      "text/plain": [
       "Sales_USD                     0.079757\n",
       "Units_Sold                   -0.002039\n",
       "Customer_Rating              -0.182624\n",
       "Employee_Performance_Score    1.000000\n",
       "Has_Warranty                 -0.077833\n",
       "Delivery_Time_Days           -0.028443\n",
       "dtype: float64"
      ]
     },
     "execution_count": 23,
     "metadata": {},
     "output_type": "execute_result"
    }
   ],
   "source": [
    "# Correlation between all numeric (boolean) columns\n",
    "df.corr(numeric_only= True)\n",
    "\n",
    "# Correlation between 'Employee_Performance_Score, numeric_only= True' and all numerical columns\n",
    "df.corrwith(df.Employee_Performance_Score, numeric_only= True)"
   ]
  },
  {
   "cell_type": "code",
   "execution_count": 20,
   "id": "15091c79",
   "metadata": {},
   "outputs": [
    {
     "data": {
      "text/plain": [
       "np.float64(0.023621026296408467)"
      ]
     },
     "execution_count": 20,
     "metadata": {},
     "output_type": "execute_result"
    }
   ],
   "source": [
    "#Correlation between all numeric (boolean) columns\n",
    "df[\"Sales_USD\"].corr(df[\"Units_Sold\"])"
   ]
  },
  {
   "cell_type": "code",
   "execution_count": 21,
   "id": "e5e9dfec",
   "metadata": {},
   "outputs": [
    {
     "data": {
      "text/plain": [
       "np.float64(0.07975660495107388)"
      ]
     },
     "execution_count": 21,
     "metadata": {},
     "output_type": "execute_result"
    }
   ],
   "source": [
    "#Correlation between all numeric (boolean) columns\n",
    "df[\"Sales_USD\"].corr(df.Employee_Performance_Score)"
   ]
  },
  {
   "cell_type": "markdown",
   "id": "376cfe59",
   "metadata": {},
   "source": [
    "## Exercise 3: Covariance Analysis\n",
    "\n",
    "**Scenario:** You want to understand how two numerical variables in your sales data change together.\n",
    "\n",
    "**Task:**\n",
    "\n",
    "1. Calculate the pairwise covariance matrix for all numerical columns.\n",
    "\n",
    "2. Specifically, find the covariance between 'Sales_USD' and 'Units_Sold'."
   ]
  },
  {
   "cell_type": "code",
   "execution_count": 2,
   "id": "a19fe0d6",
   "metadata": {},
   "outputs": [
    {
     "data": {
      "text/html": [
       "<div>\n",
       "<style scoped>\n",
       "    .dataframe tbody tr th:only-of-type {\n",
       "        vertical-align: middle;\n",
       "    }\n",
       "\n",
       "    .dataframe tbody tr th {\n",
       "        vertical-align: top;\n",
       "    }\n",
       "\n",
       "    .dataframe thead th {\n",
       "        text-align: right;\n",
       "    }\n",
       "</style>\n",
       "<table border=\"1\" class=\"dataframe\">\n",
       "  <thead>\n",
       "    <tr style=\"text-align: right;\">\n",
       "      <th></th>\n",
       "      <th>Sales_USD</th>\n",
       "      <th>Units_Sold</th>\n",
       "      <th>Customer_Rating</th>\n",
       "      <th>Employee_Performance_Score</th>\n",
       "      <th>Has_Warranty</th>\n",
       "      <th>Delivery_Time_Days</th>\n",
       "    </tr>\n",
       "  </thead>\n",
       "  <tbody>\n",
       "    <tr>\n",
       "      <th>Sales_USD</th>\n",
       "      <td>14637.950280</td>\n",
       "      <td>7.508959</td>\n",
       "      <td>-30.478755</td>\n",
       "      <td>117.583732</td>\n",
       "      <td>10.301904</td>\n",
       "      <td>-29.740985</td>\n",
       "    </tr>\n",
       "    <tr>\n",
       "      <th>Units_Sold</th>\n",
       "      <td>7.508959</td>\n",
       "      <td>6.880404</td>\n",
       "      <td>-0.397536</td>\n",
       "      <td>-0.063830</td>\n",
       "      <td>-0.055354</td>\n",
       "      <td>-1.253939</td>\n",
       "    </tr>\n",
       "    <tr>\n",
       "      <th>Customer_Rating</th>\n",
       "      <td>-30.478755</td>\n",
       "      <td>-0.397536</td>\n",
       "      <td>2.073908</td>\n",
       "      <td>-3.090019</td>\n",
       "      <td>0.080067</td>\n",
       "      <td>0.316349</td>\n",
       "    </tr>\n",
       "    <tr>\n",
       "      <th>Employee_Performance_Score</th>\n",
       "      <td>117.583732</td>\n",
       "      <td>-0.063830</td>\n",
       "      <td>-3.090019</td>\n",
       "      <td>143.922569</td>\n",
       "      <td>-0.449995</td>\n",
       "      <td>-1.322364</td>\n",
       "    </tr>\n",
       "    <tr>\n",
       "      <th>Has_Warranty</th>\n",
       "      <td>10.301904</td>\n",
       "      <td>-0.055354</td>\n",
       "      <td>0.080067</td>\n",
       "      <td>-0.449995</td>\n",
       "      <td>0.226667</td>\n",
       "      <td>0.125455</td>\n",
       "    </tr>\n",
       "    <tr>\n",
       "      <th>Delivery_Time_Days</th>\n",
       "      <td>-29.740985</td>\n",
       "      <td>-1.253939</td>\n",
       "      <td>0.316349</td>\n",
       "      <td>-1.322364</td>\n",
       "      <td>0.125455</td>\n",
       "      <td>14.578889</td>\n",
       "    </tr>\n",
       "  </tbody>\n",
       "</table>\n",
       "</div>"
      ],
      "text/plain": [
       "                               Sales_USD  Units_Sold  Customer_Rating  \\\n",
       "Sales_USD                   14637.950280    7.508959       -30.478755   \n",
       "Units_Sold                      7.508959    6.880404        -0.397536   \n",
       "Customer_Rating               -30.478755   -0.397536         2.073908   \n",
       "Employee_Performance_Score    117.583732   -0.063830        -3.090019   \n",
       "Has_Warranty                   10.301904   -0.055354         0.080067   \n",
       "Delivery_Time_Days            -29.740985   -1.253939         0.316349   \n",
       "\n",
       "                            Employee_Performance_Score  Has_Warranty  \\\n",
       "Sales_USD                                   117.583732     10.301904   \n",
       "Units_Sold                                   -0.063830     -0.055354   \n",
       "Customer_Rating                              -3.090019      0.080067   \n",
       "Employee_Performance_Score                  143.922569     -0.449995   \n",
       "Has_Warranty                                 -0.449995      0.226667   \n",
       "Delivery_Time_Days                           -1.322364      0.125455   \n",
       "\n",
       "                            Delivery_Time_Days  \n",
       "Sales_USD                           -29.740985  \n",
       "Units_Sold                           -1.253939  \n",
       "Customer_Rating                       0.316349  \n",
       "Employee_Performance_Score           -1.322364  \n",
       "Has_Warranty                          0.125455  \n",
       "Delivery_Time_Days                   14.578889  "
      ]
     },
     "execution_count": 2,
     "metadata": {},
     "output_type": "execute_result"
    }
   ],
   "source": [
    "# Covariance on all numerical columns\n",
    "df.cov(numeric_only= True)"
   ]
  },
  {
   "cell_type": "code",
   "execution_count": 3,
   "id": "2fc98b72",
   "metadata": {},
   "outputs": [
    {
     "data": {
      "text/plain": [
       "np.float64(7.5089585666293415)"
      ]
     },
     "execution_count": 3,
     "metadata": {},
     "output_type": "execute_result"
    }
   ],
   "source": [
    "# Covariance in specific pair-wise columns\n",
    "df[\"Sales_USD\"].cov(df[\"Units_Sold\"])"
   ]
  },
  {
   "cell_type": "markdown",
   "id": "fb01abab",
   "metadata": {},
   "source": [
    "## Exercise 4: Unique Values and Counts - Categorical Columns\n",
    "\n",
    "**Scenario:** You need to explore the distinct categories and their frequencies within your categorical data.\n",
    "\n",
    "**Task:**\n",
    "\n",
    "1. Find all unique values in the 'Region' column.\n",
    "\n",
    "2. Count the occurrences of each unique value in the 'Product_Category' column.\n",
    "\n",
    "3. Count the number of unique customer segments."
   ]
  },
  {
   "cell_type": "code",
   "execution_count": null,
   "id": "2ae5dc89",
   "metadata": {},
   "outputs": [
    {
     "data": {
      "text/plain": [
       "array(['East', 'West', 'North', 'South'], dtype=object)"
      ]
     },
     "execution_count": 4,
     "metadata": {},
     "output_type": "execute_result"
    }
   ],
   "source": [
    "# Extract unique values\n",
    "unique_region= df[\"Region\"].unique()\n",
    "unique_region"
   ]
  },
  {
   "cell_type": "code",
   "execution_count": null,
   "id": "1ed17d71",
   "metadata": {},
   "outputs": [
    {
     "data": {
      "text/plain": [
       "np.int64(3)"
      ]
     },
     "execution_count": 14,
     "metadata": {},
     "output_type": "execute_result"
    }
   ],
   "source": [
    "# Count unique values\n",
    "ndarray= df.Customer_Segment.unique() # Returns a numpy array\n",
    "pd.Series(ndarray).count()"
   ]
  },
  {
   "cell_type": "markdown",
   "id": "0d83523b",
   "metadata": {},
   "source": [
    "## Exercise 5: Unique Values and Counts - Numerical/Boolean Columns\n",
    "\n",
    "**Scenario:** You want to examine the distinct entries and their frequencies in columns that might appear numerical or boolean, including handling potential missing values.\n",
    "\n",
    "**Task:**\n",
    "\n",
    "1. Find all unique values in the 'Customer_Rating' column.\n",
    "\n",
    "2. Count the occurrences of each unique value in the 'Has_Warranty' column.\n",
    "\n",
    "3. Count the number of unique 'Delivery_Time_Days' values."
   ]
  },
  {
   "cell_type": "code",
   "execution_count": null,
   "id": "9e939a18",
   "metadata": {},
   "outputs": [
    {
     "data": {
      "text/plain": [
       "array([ 1., nan,  4.,  5.,  3.,  2.])"
      ]
     },
     "execution_count": 19,
     "metadata": {},
     "output_type": "execute_result"
    }
   ],
   "source": [
    "# Unique values\n",
    "df[\"Customer_Rating\"].unique()"
   ]
  },
  {
   "cell_type": "code",
   "execution_count": 21,
   "id": "71aa5ed5",
   "metadata": {},
   "outputs": [
    {
     "data": {
      "text/plain": [
       "Has_Warranty\n",
       "True     66\n",
       "False    34\n",
       "Name: count, dtype: int64"
      ]
     },
     "execution_count": 21,
     "metadata": {},
     "output_type": "execute_result"
    }
   ],
   "source": [
    "# Count values\n",
    "df[\"Has_Warranty\"].value_counts()"
   ]
  },
  {
   "cell_type": "code",
   "execution_count": 22,
   "id": "8aa79c9f",
   "metadata": {},
   "outputs": [
    {
     "data": {
      "text/plain": [
       "np.int64(14)"
      ]
     },
     "execution_count": 22,
     "metadata": {},
     "output_type": "execute_result"
    }
   ],
   "source": [
    "# Count values\n",
    "pd.Series(df[\"Delivery_Time_Days\"].unique()).count()"
   ]
  },
  {
   "cell_type": "markdown",
   "id": "97ea910c",
   "metadata": {},
   "source": [
    "## Exercise 6: Membership Check - isin() for Filtering\n",
    "\n",
    "**Scenario:** You need to select rows where specific columns contain values from a predefined set.\n",
    "\n",
    "**Task:**\n",
    "\n",
    "1. Filter the DataFrame to show only rows where 'Product_Category' is either 'Electronics' or 'Food'.\n",
    "\n",
    "2. Filter the DataFrame to show rows where 'Customer_Rating' is among [4, 5] (meaning 4 or 5 stars)."
   ]
  },
  {
   "cell_type": "code",
   "execution_count": 32,
   "id": "adf463a8",
   "metadata": {},
   "outputs": [
    {
     "data": {
      "text/plain": [
       "41    Electronics\n",
       "36    Electronics\n",
       "37    Electronics\n",
       "39    Electronics\n",
       "48    Electronics\n",
       "         ...     \n",
       "28           Food\n",
       "29           Food\n",
       "30           Food\n",
       "62           Food\n",
       "3            Food\n",
       "Name: Product_Category, Length: 50, dtype: object"
      ]
     },
     "execution_count": 32,
     "metadata": {},
     "output_type": "execute_result"
    }
   ],
   "source": [
    "# Filtering by values\n",
    "cond= df[\"Product_Category\"].isin((\"Food\", \"Electronics\"))\n",
    "df.loc[cond, \"Product_Category\"].sort_values()"
   ]
  },
  {
   "cell_type": "code",
   "execution_count": 34,
   "id": "e919c271",
   "metadata": {},
   "outputs": [
    {
     "data": {
      "text/plain": [
       "3     4.0\n",
       "71    4.0\n",
       "65    4.0\n",
       "62    4.0\n",
       "92    4.0\n",
       "     ... \n",
       "9     5.0\n",
       "5     5.0\n",
       "4     5.0\n",
       "66    5.0\n",
       "93    5.0\n",
       "Name: Customer_Rating, Length: 37, dtype: float64"
      ]
     },
     "execution_count": 34,
     "metadata": {},
     "output_type": "execute_result"
    }
   ],
   "source": [
    "# Filtering by values\n",
    "cond= df[\"Customer_Rating\"].isin((4, 5))\n",
    "df.loc[cond, \"Customer_Rating\"].sort_values()"
   ]
  },
  {
   "cell_type": "markdown",
   "id": "cb4a4ed3",
   "metadata": {},
   "source": [
    "## Exercise 7: Membership Check - isin() for Creating a New Column\n",
    "\n",
    "**Scenario:** You want to summarize numerical data for specific subgroups within your dataset.\n",
    "\n",
    "**Task:**\n",
    "\n",
    "1. Create a new boolean column named 'Is_High_Value_Product' which is True if 'Product_Category' is 'Electronics' or 'Home Goods', and False otherwise.\n",
    "\n",
    "2. Create a new boolean column named 'Is_Top_Rated_Customer' which is True if 'Customer_Rating' is 5, and False otherwise (handle NaN appropriately, perhaps by making them False or keeping them NaN)."
   ]
  },
  {
   "cell_type": "code",
   "execution_count": null,
   "id": "8c1c6c18",
   "metadata": {},
   "outputs": [
    {
     "data": {
      "text/html": [
       "<div>\n",
       "<style scoped>\n",
       "    .dataframe tbody tr th:only-of-type {\n",
       "        vertical-align: middle;\n",
       "    }\n",
       "\n",
       "    .dataframe tbody tr th {\n",
       "        vertical-align: top;\n",
       "    }\n",
       "\n",
       "    .dataframe thead th {\n",
       "        text-align: right;\n",
       "    }\n",
       "</style>\n",
       "<table border=\"1\" class=\"dataframe\">\n",
       "  <thead>\n",
       "    <tr style=\"text-align: right;\">\n",
       "      <th></th>\n",
       "      <th>Region</th>\n",
       "      <th>Product_Category</th>\n",
       "      <th>Sales_USD</th>\n",
       "      <th>Units_Sold</th>\n",
       "      <th>Customer_Rating</th>\n",
       "      <th>Employee_Performance_Score</th>\n",
       "      <th>Has_Warranty</th>\n",
       "      <th>Customer_Segment</th>\n",
       "      <th>Delivery_Time_Days</th>\n",
       "      <th>Is_High_Value_Product</th>\n",
       "    </tr>\n",
       "  </thead>\n",
       "  <tbody>\n",
       "    <tr>\n",
       "      <th>0</th>\n",
       "      <td>East</td>\n",
       "      <td>Home Goods</td>\n",
       "      <td>112.0</td>\n",
       "      <td>7</td>\n",
       "      <td>1.0</td>\n",
       "      <td>86.407895</td>\n",
       "      <td>True</td>\n",
       "      <td>Loyal</td>\n",
       "      <td>8</td>\n",
       "      <td>True</td>\n",
       "    </tr>\n",
       "    <tr>\n",
       "      <th>1</th>\n",
       "      <td>West</td>\n",
       "      <td>Clothing</td>\n",
       "      <td>401.0</td>\n",
       "      <td>8</td>\n",
       "      <td>1.0</td>\n",
       "      <td>71.197356</td>\n",
       "      <td>True</td>\n",
       "      <td>Loyal</td>\n",
       "      <td>6</td>\n",
       "      <td>False</td>\n",
       "    </tr>\n",
       "    <tr>\n",
       "      <th>2</th>\n",
       "      <td>North</td>\n",
       "      <td>Clothing</td>\n",
       "      <td>280.0</td>\n",
       "      <td>1</td>\n",
       "      <td>NaN</td>\n",
       "      <td>98.194611</td>\n",
       "      <td>True</td>\n",
       "      <td>Loyal</td>\n",
       "      <td>14</td>\n",
       "      <td>False</td>\n",
       "    </tr>\n",
       "    <tr>\n",
       "      <th>3</th>\n",
       "      <td>East</td>\n",
       "      <td>Food</td>\n",
       "      <td>290.0</td>\n",
       "      <td>6</td>\n",
       "      <td>4.0</td>\n",
       "      <td>89.515877</td>\n",
       "      <td>True</td>\n",
       "      <td>Returning</td>\n",
       "      <td>10</td>\n",
       "      <td>False</td>\n",
       "    </tr>\n",
       "    <tr>\n",
       "      <th>4</th>\n",
       "      <td>East</td>\n",
       "      <td>Clothing</td>\n",
       "      <td>101.0</td>\n",
       "      <td>8</td>\n",
       "      <td>5.0</td>\n",
       "      <td>82.174162</td>\n",
       "      <td>True</td>\n",
       "      <td>Returning</td>\n",
       "      <td>12</td>\n",
       "      <td>False</td>\n",
       "    </tr>\n",
       "    <tr>\n",
       "      <th>...</th>\n",
       "      <td>...</td>\n",
       "      <td>...</td>\n",
       "      <td>...</td>\n",
       "      <td>...</td>\n",
       "      <td>...</td>\n",
       "      <td>...</td>\n",
       "      <td>...</td>\n",
       "      <td>...</td>\n",
       "      <td>...</td>\n",
       "      <td>...</td>\n",
       "    </tr>\n",
       "    <tr>\n",
       "      <th>95</th>\n",
       "      <td>South</td>\n",
       "      <td>Clothing</td>\n",
       "      <td>209.0</td>\n",
       "      <td>1</td>\n",
       "      <td>2.0</td>\n",
       "      <td>73.146582</td>\n",
       "      <td>False</td>\n",
       "      <td>Returning</td>\n",
       "      <td>8</td>\n",
       "      <td>False</td>\n",
       "    </tr>\n",
       "    <tr>\n",
       "      <th>96</th>\n",
       "      <td>South</td>\n",
       "      <td>Clothing</td>\n",
       "      <td>247.0</td>\n",
       "      <td>5</td>\n",
       "      <td>2.0</td>\n",
       "      <td>86.900738</td>\n",
       "      <td>False</td>\n",
       "      <td>Loyal</td>\n",
       "      <td>6</td>\n",
       "      <td>False</td>\n",
       "    </tr>\n",
       "    <tr>\n",
       "      <th>97</th>\n",
       "      <td>West</td>\n",
       "      <td>Food</td>\n",
       "      <td>465.0</td>\n",
       "      <td>3</td>\n",
       "      <td>1.0</td>\n",
       "      <td>90.094981</td>\n",
       "      <td>True</td>\n",
       "      <td>Loyal</td>\n",
       "      <td>2</td>\n",
       "      <td>False</td>\n",
       "    </tr>\n",
       "    <tr>\n",
       "      <th>98</th>\n",
       "      <td>South</td>\n",
       "      <td>Electronics</td>\n",
       "      <td>296.0</td>\n",
       "      <td>4</td>\n",
       "      <td>2.0</td>\n",
       "      <td>91.663162</td>\n",
       "      <td>True</td>\n",
       "      <td>New</td>\n",
       "      <td>4</td>\n",
       "      <td>True</td>\n",
       "    </tr>\n",
       "    <tr>\n",
       "      <th>99</th>\n",
       "      <td>North</td>\n",
       "      <td>Home Goods</td>\n",
       "      <td>373.0</td>\n",
       "      <td>3</td>\n",
       "      <td>1.0</td>\n",
       "      <td>91.584726</td>\n",
       "      <td>True</td>\n",
       "      <td>Returning</td>\n",
       "      <td>12</td>\n",
       "      <td>True</td>\n",
       "    </tr>\n",
       "  </tbody>\n",
       "</table>\n",
       "<p>100 rows × 10 columns</p>\n",
       "</div>"
      ],
      "text/plain": [
       "   Region Product_Category  Sales_USD  Units_Sold  Customer_Rating  \\\n",
       "0    East       Home Goods      112.0           7              1.0   \n",
       "1    West         Clothing      401.0           8              1.0   \n",
       "2   North         Clothing      280.0           1              NaN   \n",
       "3    East             Food      290.0           6              4.0   \n",
       "4    East         Clothing      101.0           8              5.0   \n",
       "..    ...              ...        ...         ...              ...   \n",
       "95  South         Clothing      209.0           1              2.0   \n",
       "96  South         Clothing      247.0           5              2.0   \n",
       "97   West             Food      465.0           3              1.0   \n",
       "98  South      Electronics      296.0           4              2.0   \n",
       "99  North       Home Goods      373.0           3              1.0   \n",
       "\n",
       "    Employee_Performance_Score  Has_Warranty Customer_Segment  \\\n",
       "0                    86.407895          True            Loyal   \n",
       "1                    71.197356          True            Loyal   \n",
       "2                    98.194611          True            Loyal   \n",
       "3                    89.515877          True        Returning   \n",
       "4                    82.174162          True        Returning   \n",
       "..                         ...           ...              ...   \n",
       "95                   73.146582         False        Returning   \n",
       "96                   86.900738         False            Loyal   \n",
       "97                   90.094981          True            Loyal   \n",
       "98                   91.663162          True              New   \n",
       "99                   91.584726          True        Returning   \n",
       "\n",
       "    Delivery_Time_Days  Is_High_Value_Product  \n",
       "0                    8                   True  \n",
       "1                    6                  False  \n",
       "2                   14                  False  \n",
       "3                   10                  False  \n",
       "4                   12                  False  \n",
       "..                 ...                    ...  \n",
       "95                   8                  False  \n",
       "96                   6                  False  \n",
       "97                   2                  False  \n",
       "98                   4                   True  \n",
       "99                  12                   True  \n",
       "\n",
       "[100 rows x 10 columns]"
      ]
     },
     "execution_count": 38,
     "metadata": {},
     "output_type": "execute_result"
    }
   ],
   "source": [
    "# Create new boolean column\n",
    "cond= df.Product_Category.isin((\"Electronics\", \"Home Goods\"))\n",
    "df[\"Is_High_Value_Product\"]= cond\n",
    "df.head()"
   ]
  },
  {
   "cell_type": "code",
   "execution_count": 39,
   "id": "d6acb840",
   "metadata": {},
   "outputs": [
    {
     "data": {
      "text/html": [
       "<div>\n",
       "<style scoped>\n",
       "    .dataframe tbody tr th:only-of-type {\n",
       "        vertical-align: middle;\n",
       "    }\n",
       "\n",
       "    .dataframe tbody tr th {\n",
       "        vertical-align: top;\n",
       "    }\n",
       "\n",
       "    .dataframe thead th {\n",
       "        text-align: right;\n",
       "    }\n",
       "</style>\n",
       "<table border=\"1\" class=\"dataframe\">\n",
       "  <thead>\n",
       "    <tr style=\"text-align: right;\">\n",
       "      <th></th>\n",
       "      <th>Region</th>\n",
       "      <th>Product_Category</th>\n",
       "      <th>Sales_USD</th>\n",
       "      <th>Units_Sold</th>\n",
       "      <th>Customer_Rating</th>\n",
       "      <th>Employee_Performance_Score</th>\n",
       "      <th>Has_Warranty</th>\n",
       "      <th>Customer_Segment</th>\n",
       "      <th>Delivery_Time_Days</th>\n",
       "      <th>Is_High_Value_Product</th>\n",
       "      <th>Is_Top_Rated_Customer</th>\n",
       "    </tr>\n",
       "  </thead>\n",
       "  <tbody>\n",
       "    <tr>\n",
       "      <th>0</th>\n",
       "      <td>East</td>\n",
       "      <td>Home Goods</td>\n",
       "      <td>112.0</td>\n",
       "      <td>7</td>\n",
       "      <td>1.0</td>\n",
       "      <td>86.407895</td>\n",
       "      <td>True</td>\n",
       "      <td>Loyal</td>\n",
       "      <td>8</td>\n",
       "      <td>True</td>\n",
       "      <td>False</td>\n",
       "    </tr>\n",
       "    <tr>\n",
       "      <th>1</th>\n",
       "      <td>West</td>\n",
       "      <td>Clothing</td>\n",
       "      <td>401.0</td>\n",
       "      <td>8</td>\n",
       "      <td>1.0</td>\n",
       "      <td>71.197356</td>\n",
       "      <td>True</td>\n",
       "      <td>Loyal</td>\n",
       "      <td>6</td>\n",
       "      <td>False</td>\n",
       "      <td>False</td>\n",
       "    </tr>\n",
       "    <tr>\n",
       "      <th>2</th>\n",
       "      <td>North</td>\n",
       "      <td>Clothing</td>\n",
       "      <td>280.0</td>\n",
       "      <td>1</td>\n",
       "      <td>NaN</td>\n",
       "      <td>98.194611</td>\n",
       "      <td>True</td>\n",
       "      <td>Loyal</td>\n",
       "      <td>14</td>\n",
       "      <td>False</td>\n",
       "      <td>False</td>\n",
       "    </tr>\n",
       "    <tr>\n",
       "      <th>3</th>\n",
       "      <td>East</td>\n",
       "      <td>Food</td>\n",
       "      <td>290.0</td>\n",
       "      <td>6</td>\n",
       "      <td>4.0</td>\n",
       "      <td>89.515877</td>\n",
       "      <td>True</td>\n",
       "      <td>Returning</td>\n",
       "      <td>10</td>\n",
       "      <td>False</td>\n",
       "      <td>False</td>\n",
       "    </tr>\n",
       "    <tr>\n",
       "      <th>4</th>\n",
       "      <td>East</td>\n",
       "      <td>Clothing</td>\n",
       "      <td>101.0</td>\n",
       "      <td>8</td>\n",
       "      <td>5.0</td>\n",
       "      <td>82.174162</td>\n",
       "      <td>True</td>\n",
       "      <td>Returning</td>\n",
       "      <td>12</td>\n",
       "      <td>False</td>\n",
       "      <td>True</td>\n",
       "    </tr>\n",
       "  </tbody>\n",
       "</table>\n",
       "</div>"
      ],
      "text/plain": [
       "  Region Product_Category  Sales_USD  Units_Sold  Customer_Rating  \\\n",
       "0   East       Home Goods      112.0           7              1.0   \n",
       "1   West         Clothing      401.0           8              1.0   \n",
       "2  North         Clothing      280.0           1              NaN   \n",
       "3   East             Food      290.0           6              4.0   \n",
       "4   East         Clothing      101.0           8              5.0   \n",
       "\n",
       "   Employee_Performance_Score  Has_Warranty Customer_Segment  \\\n",
       "0                   86.407895          True            Loyal   \n",
       "1                   71.197356          True            Loyal   \n",
       "2                   98.194611          True            Loyal   \n",
       "3                   89.515877          True        Returning   \n",
       "4                   82.174162          True        Returning   \n",
       "\n",
       "   Delivery_Time_Days  Is_High_Value_Product  Is_Top_Rated_Customer  \n",
       "0                   8                   True                  False  \n",
       "1                   6                  False                  False  \n",
       "2                  14                  False                  False  \n",
       "3                  10                  False                  False  \n",
       "4                  12                  False                   True  "
      ]
     },
     "execution_count": 39,
     "metadata": {},
     "output_type": "execute_result"
    }
   ],
   "source": [
    "# Create new boolean column\n",
    "cond= df.Customer_Rating == 5\n",
    "df[\"Is_Top_Rated_Customer\"]= cond\n",
    "df.head()"
   ]
  },
  {
   "cell_type": "markdown",
   "id": "d3deb8c0",
   "metadata": {},
   "source": [
    "## Exercise 8: Grouped Descriptive Statistics\n",
    "\n",
    "**Scenario:** You want to summarize numerical data for specific subgroups within your dataset.\n",
    "\n",
    "**Tasks:**\n",
    "\n",
    "1. Calculate the average 'Sales_USD' and average 'Units_Sold' for each 'Region' in df.\n",
    "\n",
    "2. Find the maximum 'Employee_Performance_Score' for each 'Product_Category' in df.\n",
    "\n",
    "3. Count the number of customers (i.e., rows) in each 'Customer_Segment' in df."
   ]
  },
  {
   "cell_type": "code",
   "execution_count": 151,
   "id": "cd096e66",
   "metadata": {},
   "outputs": [
    {
     "data": {
      "text/html": [
       "<div>\n",
       "<style scoped>\n",
       "    .dataframe tbody tr th:only-of-type {\n",
       "        vertical-align: middle;\n",
       "    }\n",
       "\n",
       "    .dataframe tbody tr th {\n",
       "        vertical-align: top;\n",
       "    }\n",
       "\n",
       "    .dataframe thead th {\n",
       "        text-align: right;\n",
       "    }\n",
       "</style>\n",
       "<table border=\"1\" class=\"dataframe\">\n",
       "  <thead>\n",
       "    <tr style=\"text-align: right;\">\n",
       "      <th></th>\n",
       "      <th>Sales_USD</th>\n",
       "      <th>Units_Sold</th>\n",
       "    </tr>\n",
       "    <tr>\n",
       "      <th>Region</th>\n",
       "      <th></th>\n",
       "      <th></th>\n",
       "    </tr>\n",
       "  </thead>\n",
       "  <tbody>\n",
       "    <tr>\n",
       "      <th>East</th>\n",
       "      <td>249.166667</td>\n",
       "      <td>5.041667</td>\n",
       "    </tr>\n",
       "    <tr>\n",
       "      <th>North</th>\n",
       "      <td>264.166667</td>\n",
       "      <td>3.800000</td>\n",
       "    </tr>\n",
       "    <tr>\n",
       "      <th>South</th>\n",
       "      <td>290.833333</td>\n",
       "      <td>5.000000</td>\n",
       "    </tr>\n",
       "    <tr>\n",
       "      <th>West</th>\n",
       "      <td>274.551724</td>\n",
       "      <td>5.033333</td>\n",
       "    </tr>\n",
       "  </tbody>\n",
       "</table>\n",
       "</div>"
      ],
      "text/plain": [
       "         Sales_USD  Units_Sold\n",
       "Region                        \n",
       "East    249.166667    5.041667\n",
       "North   264.166667    3.800000\n",
       "South   290.833333    5.000000\n",
       "West    274.551724    5.033333"
      ]
     },
     "execution_count": 151,
     "metadata": {},
     "output_type": "execute_result"
    }
   ],
   "source": [
    "# Calculate mean of specifc columns in unique 'Region's\n",
    "region_groups= df.groupby(\"Region\")\n",
    "region_groups[[\"Sales_USD\", \"Units_Sold\"]].mean()"
   ]
  },
  {
   "cell_type": "code",
   "execution_count": 153,
   "id": "66260eb6",
   "metadata": {},
   "outputs": [
    {
     "data": {
      "text/plain": [
       "Product_Category\n",
       "Clothing       98.194611\n",
       "Electronics    95.098881\n",
       "Food           98.447623\n",
       "Home Goods     99.620206\n",
       "Name: Employee_Performance_Score, dtype: float64"
      ]
     },
     "execution_count": 153,
     "metadata": {},
     "output_type": "execute_result"
    }
   ],
   "source": [
    "# Calculate max score for each group 'Product_Category'\n",
    "prod_categ_group= df.groupby(\"Product_Category\")\n",
    "prod_categ_group[\"Employee_Performance_Score\"].max()"
   ]
  },
  {
   "cell_type": "code",
   "execution_count": 152,
   "id": "a6d673f0",
   "metadata": {},
   "outputs": [
    {
     "data": {
      "text/plain": [
       "Product_Category  Customer_Segment\n",
       "Books             Loyal                1\n",
       "Clothing          Returning            8\n",
       "                  Loyal                6\n",
       "                  New                  5\n",
       "Electronics       Returning           13\n",
       "                  New                  8\n",
       "                  Loyal                5\n",
       "Food              Returning           13\n",
       "                  Loyal                8\n",
       "                  New                  3\n",
       "Home Goods        Returning           13\n",
       "                  New                  9\n",
       "                  Loyal                8\n",
       "Name: count, dtype: int64"
      ]
     },
     "execution_count": 152,
     "metadata": {},
     "output_type": "execute_result"
    }
   ],
   "source": [
    "# Count values of 'Customer Segment'\n",
    "prod_categ_group[\"Customer_Segment\"].value_counts()"
   ]
  },
  {
   "cell_type": "markdown",
   "id": "5ff3a9f4",
   "metadata": {},
   "source": [
    "**Note:** *The operation `g= df.gruopby(\"col1\"); g[\"col1\"].count()` is equal to `g= df[\"col1\"].value_counts()`. So when counting values in a column is better option to use `value_counts()` method instead of gruoping and counting*"
   ]
  },
  {
   "cell_type": "markdown",
   "id": "90411e64",
   "metadata": {},
   "source": [
    "## Exercise 9: Grouped Correlation\n",
    "\n",
    "**Scenario:** You need to analyze the relationship between two variables, but this relationship might vary across different segments of your data.\n",
    "\n",
    "**Task:**\n",
    "\n",
    "1. Calculate the correlation between 'Sales_USD' and 'Units_Sold' separately for each 'Region' in df."
   ]
  },
  {
   "cell_type": "code",
   "execution_count": 54,
   "id": "81739a1b",
   "metadata": {},
   "outputs": [
    {
     "data": {
      "text/plain": [
       "Region\n",
       "East    -31.268116\n",
       "North   -42.862745\n",
       "South   -13.405797\n",
       "West     80.615764\n",
       "Name: Sales_USD, dtype: float64"
      ]
     },
     "execution_count": 54,
     "metadata": {},
     "output_type": "execute_result"
    }
   ],
   "source": [
    "# Correlation\n",
    "region_groups[\"Sales_USD\"].cov(df[\"Units_Sold\"])"
   ]
  },
  {
   "cell_type": "markdown",
   "id": "197ecf9f",
   "metadata": {},
   "source": [
    "## Exercise 10: Combined Unique Counts and Aggregation\n",
    "\n",
    "**Scenario:** You want to understand the diversity of values within certain categories and identify the most common characteristics of groups.\n",
    "\n",
    "**Tasks:**\n",
    "\n",
    "1. For each 'Product_Category' in df, find the number of unique 'Customer_Segment' values associated with it.\n",
    "\n",
    "2. For each 'Customer_Segment' in df, find the most frequent 'Product_Category' purchased by that segment."
   ]
  },
  {
   "cell_type": "code",
   "execution_count": null,
   "id": "b0069e2e",
   "metadata": {},
   "outputs": [
    {
     "data": {
      "text/plain": [
       "Product_Category\n",
       "Clothing       3\n",
       "Electronics    3\n",
       "Food           3\n",
       "Home Goods     3\n",
       "Name: Customer_Segment, dtype: int64"
      ]
     },
     "execution_count": 160,
     "metadata": {},
     "output_type": "execute_result"
    }
   ],
   "source": [
    "# Unique values\n",
    "prod_categ_group[\"Customer_Segment\"].unique().apply(lambda s: len(s))"
   ]
  },
  {
   "cell_type": "code",
   "execution_count": null,
   "id": "08125442",
   "metadata": {},
   "outputs": [
    {
     "data": {
      "text/plain": [
       "Customer_Segment\n",
       "Loyal        Home Goods\n",
       "New          Home Goods\n",
       "Returning    Home Goods\n",
       "Name: Product_Category, dtype: object"
      ]
     },
     "execution_count": 164,
     "metadata": {},
     "output_type": "execute_result"
    }
   ],
   "source": [
    "# Most purchased category\n",
    "cust_seg_group[\"Product_Category\"].max()"
   ]
  }
 ],
 "metadata": {
  "kernelspec": {
   "display_name": "pydata-book",
   "language": "python",
   "name": "python3"
  },
  "language_info": {
   "codemirror_mode": {
    "name": "ipython",
    "version": 3
   },
   "file_extension": ".py",
   "mimetype": "text/x-python",
   "name": "python",
   "nbconvert_exporter": "python",
   "pygments_lexer": "ipython3",
   "version": "3.13.5"
  }
 },
 "nbformat": 4,
 "nbformat_minor": 5
}
