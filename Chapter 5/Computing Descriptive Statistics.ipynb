{
 "cells": [
  {
   "cell_type": "code",
   "execution_count": null,
   "id": "1e13e52f",
   "metadata": {},
   "outputs": [
    {
     "name": "stdout",
     "output_type": "stream",
     "text": [
      "Initial DataFrame Head:\n",
      "  Region Product_Category  Sales_USD  Units_Sold  Customer_Rating  \\\n",
      "0   East       Home Goods      112.0           7              1.0   \n",
      "1   West         Clothing      401.0           8              1.0   \n",
      "2  North         Clothing      280.0           1              NaN   \n",
      "3   East             Food      290.0           6              4.0   \n",
      "4   East         Clothing      101.0           8              5.0   \n",
      "\n",
      "   Employee_Performance_Score  Has_Warranty Customer_Segment  \\\n",
      "0                   86.407895          True            Loyal   \n",
      "1                   71.197356          True            Loyal   \n",
      "2                   98.194611          True            Loyal   \n",
      "3                   89.515877          True        Returning   \n",
      "4                   82.174162          True        Returning   \n",
      "\n",
      "   Delivery_Time_Days  \n",
      "0                   8  \n",
      "1                   6  \n",
      "2                  14  \n",
      "3                  10  \n",
      "4                  12  \n",
      "\n",
      "Initial DataFrame Info:\n",
      "<class 'pandas.core.frame.DataFrame'>\n",
      "RangeIndex: 100 entries, 0 to 99\n",
      "Data columns (total 9 columns):\n",
      " #   Column                      Non-Null Count  Dtype  \n",
      "---  ------                      --------------  -----  \n",
      " 0   Region                      100 non-null    object \n",
      " 1   Product_Category            100 non-null    object \n",
      " 2   Sales_USD                   95 non-null     float64\n",
      " 3   Units_Sold                  100 non-null    int32  \n",
      " 4   Customer_Rating             95 non-null     float64\n",
      " 5   Employee_Performance_Score  95 non-null     float64\n",
      " 6   Has_Warranty                100 non-null    bool   \n",
      " 7   Customer_Segment            100 non-null    object \n",
      " 8   Delivery_Time_Days          100 non-null    int32  \n",
      "dtypes: bool(1), float64(3), int32(2), object(3)\n",
      "memory usage: 5.7+ KB\n",
      "--------------------------------------------------\n"
     ]
    }
   ],
   "source": [
    "import pandas as pd\n",
    "import numpy as np\n",
    "\n",
    "# Set a seed for reproducibility\n",
    "np.random.seed(42)\n",
    "\n",
    "data = {\n",
    "    'Region': np.random.choice(['North', 'South', 'East', 'West'], size=100),\n",
    "    'Product_Category': np.random.choice(['Electronics', 'Clothing', 'Home Goods', 'Food'], size=100),\n",
    "    'Sales_USD': np.random.randint(50, 500, size=100),\n",
    "    'Units_Sold': np.random.randint(1, 10, size=100),\n",
    "    'Customer_Rating': np.random.randint(1, 6, size=100), # 1 to 5 stars\n",
    "    'Employee_Performance_Score': np.random.uniform(60, 100, size=100),\n",
    "    'Has_Warranty': np.random.choice([True, False], size=100, p=[0.7, 0.3]),\n",
    "    'Customer_Segment': np.random.choice(['New', 'Returning', 'Loyal'], size=100, p=[0.2, 0.5, 0.3]),\n",
    "    'Delivery_Time_Days': np.random.randint(1, 15, size=100)\n",
    "}\n",
    "df = pd.DataFrame(data)\n",
    "\n",
    "# Introduce some NaN values for robustness\n",
    "for col in ['Sales_USD', 'Customer_Rating', 'Employee_Performance_Score']:\n",
    "    df.loc[np.random.choice(df.index, 5, replace=False), col] = np.nan"
   ]
  },
  {
   "cell_type": "markdown",
   "id": "e426ec02",
   "metadata": {},
   "source": [
    "## Exercise 1: Basic Descriptive Statistics\n",
    "\n",
    "**Task:** Calculate the basic descriptive statistics (mean, median, min, max, std, count, quartiles) for all numerical columns in the DataFrame."
   ]
  },
  {
   "cell_type": "code",
   "execution_count": null,
   "id": "a06fa737",
   "metadata": {},
   "outputs": [],
   "source": []
  },
  {
   "cell_type": "markdown",
   "id": "ee48fcb2",
   "metadata": {},
   "source": [
    "## Exercise 2: Correlation Analysis\n",
    "\n",
    "**Scenario:** You want to understand the linear relationships between different numerical variables in your sales data.\n",
    "\n",
    "**Task:**\n",
    "\n",
    "1. Calculate the pairwise correlation matrix for all numerical columns.\n",
    "\n",
    "2. Specifically, find the correlation between 'Sales_USD' and 'Units_Sold'.\n",
    "\n",
    "3. Find the correlation between 'Sales_USD' and 'Employee_Performance_Score'."
   ]
  },
  {
   "cell_type": "code",
   "execution_count": null,
   "id": "56d9d669",
   "metadata": {},
   "outputs": [],
   "source": []
  },
  {
   "cell_type": "markdown",
   "id": "376cfe59",
   "metadata": {},
   "source": [
    "## Exercise 3: Covariance Analysis\n",
    "\n",
    "**Scenario:** You want to understand how two numerical variables in your sales data change together.\n",
    "\n",
    "**Task:**\n",
    "\n",
    "1. Calculate the pairwise covariance matrix for all numerical columns.\n",
    "\n",
    "2. Specifically, find the covariance between 'Sales_USD' and 'Units_Sold'."
   ]
  },
  {
   "cell_type": "code",
   "execution_count": null,
   "id": "a19fe0d6",
   "metadata": {},
   "outputs": [],
   "source": []
  },
  {
   "cell_type": "markdown",
   "id": "fb01abab",
   "metadata": {},
   "source": [
    "## Exercise 4: Unique Values and Counts - Categorical Columns\n",
    "\n",
    "**Scenario:** You need to explore the distinct categories and their frequencies within your categorical data.\n",
    "\n",
    "**Task:**\n",
    "\n",
    "1. Find all unique values in the 'Region' column.\n",
    "\n",
    "2. Count the occurrences of each unique value in the 'Product_Category' column.\n",
    "\n",
    "3. Count the number of unique customer segments."
   ]
  },
  {
   "cell_type": "code",
   "execution_count": null,
   "id": "2ae5dc89",
   "metadata": {},
   "outputs": [],
   "source": []
  },
  {
   "cell_type": "markdown",
   "id": "0d83523b",
   "metadata": {},
   "source": [
    "## Exercise 5: Unique Values and Counts - Numerical/Boolean Columns\n",
    "\n",
    "**Scenario:** You want to examine the distinct entries and their frequencies in columns that might appear numerical or boolean, including handling potential missing values.\n",
    "\n",
    "**Task:**\n",
    "\n",
    "1. Find all unique values in the 'Customer_Rating' column.\n",
    "\n",
    "2. Count the occurrences of each unique value in the 'Has_Warranty' column.\n",
    "\n",
    "3. Count the number of unique 'Delivery_Time_Days' values."
   ]
  },
  {
   "cell_type": "code",
   "execution_count": null,
   "id": "9e939a18",
   "metadata": {},
   "outputs": [],
   "source": []
  },
  {
   "cell_type": "markdown",
   "id": "97ea910c",
   "metadata": {},
   "source": [
    "## Exercise 6: Membership Check - isin() for Filtering\n",
    "\n",
    "**Scenario:** You need to select rows where specific columns contain values from a predefined set.\n",
    "\n",
    "**Task:**\n",
    "\n",
    "1. Filter the DataFrame to show only rows where 'Product_Category' is either 'Electronics' or 'Food'.\n",
    "\n",
    "2. Filter the DataFrame to show rows where 'Customer_Rating' is among [4, 5] (meaning 4 or 5 stars)."
   ]
  },
  {
   "cell_type": "code",
   "execution_count": null,
   "id": "ae064165",
   "metadata": {},
   "outputs": [],
   "source": []
  },
  {
   "cell_type": "markdown",
   "id": "cb4a4ed3",
   "metadata": {},
   "source": [
    "## Exercise 7: Membership Check - isin() for Creating a New Column\n",
    "\n",
    "**Scenario:** You want to summarize numerical data for specific subgroups within your dataset.\n",
    "\n",
    "**Task:**\n",
    "\n",
    "1. Create a new boolean column named 'Is_High_Value_Product' which is True if 'Product_Category' is 'Electronics' or 'Home Goods', and False otherwise.\n",
    "\n",
    "2. Create a new boolean column named 'Is_Top_Rated_Customer' which is True if 'Customer_Rating' is 5, and False otherwise (handle NaN appropriately, perhaps by making them False or keeping them NaN)."
   ]
  },
  {
   "cell_type": "code",
   "execution_count": null,
   "id": "8c1c6c18",
   "metadata": {},
   "outputs": [],
   "source": []
  },
  {
   "cell_type": "markdown",
   "id": "d3deb8c0",
   "metadata": {},
   "source": [
    "## Exercise 8: Grouped Descriptive Statistics\n",
    "\n",
    "**Scenario:** You want to summarize numerical data for specific subgroups within your dataset.\n",
    "\n",
    "**Tasks:**\n",
    "\n",
    "1. Calculate the average 'Sales_USD' and average 'Units_Sold' for each 'Region' in df.\n",
    "\n",
    "2. Find the maximum 'Employee_Performance_Score' for each 'Product_Category' in df.\n",
    "\n",
    "3. Count the number of customers (i.e., rows) in each 'Customer_Segment' in df."
   ]
  },
  {
   "cell_type": "code",
   "execution_count": null,
   "id": "cd096e66",
   "metadata": {},
   "outputs": [],
   "source": []
  },
  {
   "cell_type": "markdown",
   "id": "90411e64",
   "metadata": {},
   "source": [
    "## Exercise 9: Grouped Correlation\n",
    "\n",
    "**Scenario:** You need to analyze the relationship between two variables, but this relationship might vary across different segments of your data.\n",
    "\n",
    "**Task:**\n",
    "\n",
    "1. Calculate the correlation between 'Sales_USD' and 'Units_Sold' separately for each 'Region' in df."
   ]
  },
  {
   "cell_type": "code",
   "execution_count": null,
   "id": "81739a1b",
   "metadata": {},
   "outputs": [],
   "source": []
  },
  {
   "cell_type": "markdown",
   "id": "197ecf9f",
   "metadata": {},
   "source": [
    "## Exercise 10: Combined Unique Counts and Aggregation\n",
    "\n",
    "**Scenario:** You want to understand the diversity of values within certain categories and identify the most common characteristics of groups.\n",
    "\n",
    "**Tasks:**\n",
    "\n",
    "1. For each 'Product_Category' in df, find the number of unique 'Customer_Segment' values associated with it.\n",
    "\n",
    "2. For each 'Customer_Segment' in df, find the most frequent 'Product_Category' purchased by that segment."
   ]
  },
  {
   "cell_type": "code",
   "execution_count": null,
   "id": "b0069e2e",
   "metadata": {},
   "outputs": [],
   "source": []
  }
 ],
 "metadata": {
  "kernelspec": {
   "display_name": "pydata-book",
   "language": "python",
   "name": "python3"
  },
  "language_info": {
   "codemirror_mode": {
    "name": "ipython",
    "version": 3
   },
   "file_extension": ".py",
   "mimetype": "text/x-python",
   "name": "python",
   "nbconvert_exporter": "python",
   "pygments_lexer": "ipython3",
   "version": "3.13.5"
  }
 },
 "nbformat": 4,
 "nbformat_minor": 5
}
