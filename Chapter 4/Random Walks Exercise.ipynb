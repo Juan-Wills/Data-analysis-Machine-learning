{
 "cells": [
  {
   "cell_type": "markdown",
   "id": "85c2ce91-0f10-4b1c-95a5-626ccb2deb2f",
   "metadata": {},
   "source": [
    "# **Random walks**"
   ]
  },
  {
   "cell_type": "code",
   "execution_count": 9,
   "id": "f14d382e-b6a3-4f09-89f3-46526bcdede3",
   "metadata": {},
   "outputs": [
    {
     "data": {
      "text/plain": [
       "np.int64(50)"
      ]
     },
     "execution_count": 9,
     "metadata": {},
     "output_type": "execute_result"
    }
   ],
   "source": [
    "import numpy as np\n",
    "np.set_printoptions(precision=4, suppress=True)\n",
    "\n",
    "rng= np.random.default_rng(seed=12345)\n",
    "\n",
    "nsteps= 1000\n",
    "\n",
    "draws= rng.integers(0, 2, size= nsteps)\n",
    "\n",
    "steps= np.where(draws == 0, 1, -1)\n",
    "\n",
    "walk= steps.cumsum()\n",
    "\n",
    "walk.max()"
   ]
  },
  {
   "cell_type": "code",
   "execution_count": null,
   "id": "ea4d7359-bce1-451f-9d64-199e6e67f3ae",
   "metadata": {},
   "outputs": [],
   "source": []
  },
  {
   "cell_type": "code",
   "execution_count": null,
   "id": "2bdd317c-9cdb-4134-baaa-7c94836e2aa5",
   "metadata": {},
   "outputs": [],
   "source": []
  },
  {
   "cell_type": "code",
   "execution_count": null,
   "id": "82ba8f1c-0e6b-49d2-9c0c-77d9225c1a62",
   "metadata": {},
   "outputs": [],
   "source": []
  },
  {
   "cell_type": "code",
   "execution_count": null,
   "id": "21b371a0-5aed-4d26-8a40-be68da8a5caa",
   "metadata": {},
   "outputs": [],
   "source": []
  }
 ],
 "metadata": {
  "kernelspec": {
   "display_name": "Python 3 (ipykernel)",
   "language": "python",
   "name": "python3"
  },
  "language_info": {
   "codemirror_mode": {
    "name": "ipython",
    "version": 3
   },
   "file_extension": ".py",
   "mimetype": "text/x-python",
   "name": "python",
   "nbconvert_exporter": "python",
   "pygments_lexer": "ipython3",
   "version": "3.13.5"
  }
 },
 "nbformat": 4,
 "nbformat_minor": 5
}
